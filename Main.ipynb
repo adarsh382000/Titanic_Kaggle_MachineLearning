{
  "nbformat": 4,
  "nbformat_minor": 0,
  "metadata": {
    "colab": {
      "name": "Untitled2.ipynb",
      "provenance": [],
      "collapsed_sections": [],
      "mount_file_id": "1eE5wYfuPwFI8-oLI9Opd8-Sivxi0jL7d",
      "authorship_tag": "ABX9TyMpOBy0CPOE+nH/AwS6lCCR"
    },
    "kernelspec": {
      "display_name": "Python 3",
      "name": "python3"
    },
    "language_info": {
      "name": "python"
    }
  },
  "cells": [
    {
      "cell_type": "code",
      "metadata": {
        "id": "LvnfJROmEul1"
      },
      "source": [
        "import pandas as pd\n",
        "import numpy as np\n",
        "import optuna\n",
        "from sklearn.svm import SVC\n",
        "from sklearn.linear_model import LogisticRegression\n",
        "from sklearn.ensemble import RandomForestClassifier\n",
        "from sklearn.ensemble import GradientBoostingClassifier\n",
        "from sklearn.neighbors import KNeighborsClassifier\n",
        "from sklearn.naive_bayes import GaussianNB\n",
        "from sklearn.neural_network import MLPClassifier\n",
        "from sklearn.ensemble import VotingClassifier\n",
        "from xgboost import XGBClassifier\n",
        "import re\n",
        "from sklearn.preprocessing import LabelEncoder\n",
        "from sklearn.preprocessing import StandardScaler\n",
        "from sklearn.model_selection import train_test_split\n",
        "import sklearn"
      ],
      "execution_count": null,
      "outputs": []
    },
    {
      "cell_type": "code",
      "metadata": {
        "colab": {
          "base_uri": "https://localhost:8080/",
          "height": 606
        },
        "id": "qN2gTXqHE4lb",
        "outputId": "f6543187-d9d3-455d-f585-4e9842e0bf0e"
      },
      "source": [
        "df_tr = pd.read_csv(r'/content/drive/MyDrive/titanic/train.csv')\n",
        "df_ts = pd.read_csv(r'/content/drive/MyDrive/titanic/test.csv')\n",
        "temp = df_ts['PassengerId']\n",
        "df_tr"
      ],
      "execution_count": null,
      "outputs": [
        {
          "output_type": "execute_result",
          "data": {
            "text/html": [
              "<div>\n",
              "<style scoped>\n",
              "    .dataframe tbody tr th:only-of-type {\n",
              "        vertical-align: middle;\n",
              "    }\n",
              "\n",
              "    .dataframe tbody tr th {\n",
              "        vertical-align: top;\n",
              "    }\n",
              "\n",
              "    .dataframe thead th {\n",
              "        text-align: right;\n",
              "    }\n",
              "</style>\n",
              "<table border=\"1\" class=\"dataframe\">\n",
              "  <thead>\n",
              "    <tr style=\"text-align: right;\">\n",
              "      <th></th>\n",
              "      <th>PassengerId</th>\n",
              "      <th>Survived</th>\n",
              "      <th>Pclass</th>\n",
              "      <th>Name</th>\n",
              "      <th>Sex</th>\n",
              "      <th>Age</th>\n",
              "      <th>SibSp</th>\n",
              "      <th>Parch</th>\n",
              "      <th>Ticket</th>\n",
              "      <th>Fare</th>\n",
              "      <th>Cabin</th>\n",
              "      <th>Embarked</th>\n",
              "    </tr>\n",
              "  </thead>\n",
              "  <tbody>\n",
              "    <tr>\n",
              "      <th>0</th>\n",
              "      <td>1</td>\n",
              "      <td>0</td>\n",
              "      <td>3</td>\n",
              "      <td>Braund, Mr. Owen Harris</td>\n",
              "      <td>male</td>\n",
              "      <td>22.0</td>\n",
              "      <td>1</td>\n",
              "      <td>0</td>\n",
              "      <td>A/5 21171</td>\n",
              "      <td>7.2500</td>\n",
              "      <td>NaN</td>\n",
              "      <td>S</td>\n",
              "    </tr>\n",
              "    <tr>\n",
              "      <th>1</th>\n",
              "      <td>2</td>\n",
              "      <td>1</td>\n",
              "      <td>1</td>\n",
              "      <td>Cumings, Mrs. John Bradley (Florence Briggs Th...</td>\n",
              "      <td>female</td>\n",
              "      <td>38.0</td>\n",
              "      <td>1</td>\n",
              "      <td>0</td>\n",
              "      <td>PC 17599</td>\n",
              "      <td>71.2833</td>\n",
              "      <td>C85</td>\n",
              "      <td>C</td>\n",
              "    </tr>\n",
              "    <tr>\n",
              "      <th>2</th>\n",
              "      <td>3</td>\n",
              "      <td>1</td>\n",
              "      <td>3</td>\n",
              "      <td>Heikkinen, Miss. Laina</td>\n",
              "      <td>female</td>\n",
              "      <td>26.0</td>\n",
              "      <td>0</td>\n",
              "      <td>0</td>\n",
              "      <td>STON/O2. 3101282</td>\n",
              "      <td>7.9250</td>\n",
              "      <td>NaN</td>\n",
              "      <td>S</td>\n",
              "    </tr>\n",
              "    <tr>\n",
              "      <th>3</th>\n",
              "      <td>4</td>\n",
              "      <td>1</td>\n",
              "      <td>1</td>\n",
              "      <td>Futrelle, Mrs. Jacques Heath (Lily May Peel)</td>\n",
              "      <td>female</td>\n",
              "      <td>35.0</td>\n",
              "      <td>1</td>\n",
              "      <td>0</td>\n",
              "      <td>113803</td>\n",
              "      <td>53.1000</td>\n",
              "      <td>C123</td>\n",
              "      <td>S</td>\n",
              "    </tr>\n",
              "    <tr>\n",
              "      <th>4</th>\n",
              "      <td>5</td>\n",
              "      <td>0</td>\n",
              "      <td>3</td>\n",
              "      <td>Allen, Mr. William Henry</td>\n",
              "      <td>male</td>\n",
              "      <td>35.0</td>\n",
              "      <td>0</td>\n",
              "      <td>0</td>\n",
              "      <td>373450</td>\n",
              "      <td>8.0500</td>\n",
              "      <td>NaN</td>\n",
              "      <td>S</td>\n",
              "    </tr>\n",
              "    <tr>\n",
              "      <th>...</th>\n",
              "      <td>...</td>\n",
              "      <td>...</td>\n",
              "      <td>...</td>\n",
              "      <td>...</td>\n",
              "      <td>...</td>\n",
              "      <td>...</td>\n",
              "      <td>...</td>\n",
              "      <td>...</td>\n",
              "      <td>...</td>\n",
              "      <td>...</td>\n",
              "      <td>...</td>\n",
              "      <td>...</td>\n",
              "    </tr>\n",
              "    <tr>\n",
              "      <th>886</th>\n",
              "      <td>887</td>\n",
              "      <td>0</td>\n",
              "      <td>2</td>\n",
              "      <td>Montvila, Rev. Juozas</td>\n",
              "      <td>male</td>\n",
              "      <td>27.0</td>\n",
              "      <td>0</td>\n",
              "      <td>0</td>\n",
              "      <td>211536</td>\n",
              "      <td>13.0000</td>\n",
              "      <td>NaN</td>\n",
              "      <td>S</td>\n",
              "    </tr>\n",
              "    <tr>\n",
              "      <th>887</th>\n",
              "      <td>888</td>\n",
              "      <td>1</td>\n",
              "      <td>1</td>\n",
              "      <td>Graham, Miss. Margaret Edith</td>\n",
              "      <td>female</td>\n",
              "      <td>19.0</td>\n",
              "      <td>0</td>\n",
              "      <td>0</td>\n",
              "      <td>112053</td>\n",
              "      <td>30.0000</td>\n",
              "      <td>B42</td>\n",
              "      <td>S</td>\n",
              "    </tr>\n",
              "    <tr>\n",
              "      <th>888</th>\n",
              "      <td>889</td>\n",
              "      <td>0</td>\n",
              "      <td>3</td>\n",
              "      <td>Johnston, Miss. Catherine Helen \"Carrie\"</td>\n",
              "      <td>female</td>\n",
              "      <td>NaN</td>\n",
              "      <td>1</td>\n",
              "      <td>2</td>\n",
              "      <td>W./C. 6607</td>\n",
              "      <td>23.4500</td>\n",
              "      <td>NaN</td>\n",
              "      <td>S</td>\n",
              "    </tr>\n",
              "    <tr>\n",
              "      <th>889</th>\n",
              "      <td>890</td>\n",
              "      <td>1</td>\n",
              "      <td>1</td>\n",
              "      <td>Behr, Mr. Karl Howell</td>\n",
              "      <td>male</td>\n",
              "      <td>26.0</td>\n",
              "      <td>0</td>\n",
              "      <td>0</td>\n",
              "      <td>111369</td>\n",
              "      <td>30.0000</td>\n",
              "      <td>C148</td>\n",
              "      <td>C</td>\n",
              "    </tr>\n",
              "    <tr>\n",
              "      <th>890</th>\n",
              "      <td>891</td>\n",
              "      <td>0</td>\n",
              "      <td>3</td>\n",
              "      <td>Dooley, Mr. Patrick</td>\n",
              "      <td>male</td>\n",
              "      <td>32.0</td>\n",
              "      <td>0</td>\n",
              "      <td>0</td>\n",
              "      <td>370376</td>\n",
              "      <td>7.7500</td>\n",
              "      <td>NaN</td>\n",
              "      <td>Q</td>\n",
              "    </tr>\n",
              "  </tbody>\n",
              "</table>\n",
              "<p>891 rows × 12 columns</p>\n",
              "</div>"
            ],
            "text/plain": [
              "     PassengerId  Survived  Pclass  ...     Fare Cabin  Embarked\n",
              "0              1         0       3  ...   7.2500   NaN         S\n",
              "1              2         1       1  ...  71.2833   C85         C\n",
              "2              3         1       3  ...   7.9250   NaN         S\n",
              "3              4         1       1  ...  53.1000  C123         S\n",
              "4              5         0       3  ...   8.0500   NaN         S\n",
              "..           ...       ...     ...  ...      ...   ...       ...\n",
              "886          887         0       2  ...  13.0000   NaN         S\n",
              "887          888         1       1  ...  30.0000   B42         S\n",
              "888          889         0       3  ...  23.4500   NaN         S\n",
              "889          890         1       1  ...  30.0000  C148         C\n",
              "890          891         0       3  ...   7.7500   NaN         Q\n",
              "\n",
              "[891 rows x 12 columns]"
            ]
          },
          "metadata": {
            "tags": []
          },
          "execution_count": 200
        }
      ]
    },
    {
      "cell_type": "code",
      "metadata": {
        "colab": {
          "base_uri": "https://localhost:8080/"
        },
        "id": "GMVcIjYmFSa4",
        "outputId": "38e9d02e-4872-4537-91a9-0645845639a3"
      },
      "source": [
        "df_tr.isna().sum()"
      ],
      "execution_count": null,
      "outputs": [
        {
          "output_type": "execute_result",
          "data": {
            "text/plain": [
              "PassengerId      0\n",
              "Survived         0\n",
              "Pclass           0\n",
              "Name             0\n",
              "Sex              0\n",
              "Age            177\n",
              "SibSp            0\n",
              "Parch            0\n",
              "Ticket           0\n",
              "Fare             0\n",
              "Cabin          687\n",
              "Embarked         2\n",
              "dtype: int64"
            ]
          },
          "metadata": {
            "tags": []
          },
          "execution_count": 201
        }
      ]
    },
    {
      "cell_type": "code",
      "metadata": {
        "colab": {
          "base_uri": "https://localhost:8080/"
        },
        "id": "KskO32pHFWqs",
        "outputId": "6d2ebe72-352a-4d41-d84f-42f58e861af1"
      },
      "source": [
        "#PassengerId\n",
        "list = [df_tr,df_ts]\n",
        "for i in list:\n",
        "    i.drop(['PassengerId'],axis=1,inplace=True)\n",
        "df_tr.columns"
      ],
      "execution_count": null,
      "outputs": [
        {
          "output_type": "execute_result",
          "data": {
            "text/plain": [
              "Index(['Survived', 'Pclass', 'Name', 'Sex', 'Age', 'SibSp', 'Parch', 'Ticket',\n",
              "       'Fare', 'Cabin', 'Embarked'],\n",
              "      dtype='object')"
            ]
          },
          "metadata": {
            "tags": []
          },
          "execution_count": 202
        }
      ]
    },
    {
      "cell_type": "code",
      "metadata": {
        "id": "CDWoLAAJFZ-3"
      },
      "source": [
        "#Name\n",
        "def name(x):\n",
        "    x=re.findall(\"[a-zA-Z]+\\.\",x)\n",
        "    return(str(x[0][:-1]))\n",
        "    \n",
        "keep = ['Mr','Mrs','Miss','Master']\n",
        "\n",
        "for i in list:\n",
        "    i['Name'] = i['Name'].apply(name)\n",
        "    rem = [x for x in i['Name'].unique() if x not in keep]\n",
        "    i['Name'].replace(rem,['Rare']*len(rem),inplace=True)\n",
        "    le = LabelEncoder()\n",
        "    i['Name'] = le.fit_transform(i['Name'])"
      ],
      "execution_count": null,
      "outputs": []
    },
    {
      "cell_type": "code",
      "metadata": {
        "id": "zgtrYgkNFcxj"
      },
      "source": [
        "#Sex\n",
        "for i in list:\n",
        "    le = LabelEncoder()\n",
        "    i['Sex'] = le.fit_transform(i['Sex'])"
      ],
      "execution_count": null,
      "outputs": []
    },
    {
      "cell_type": "code",
      "metadata": {
        "id": "rdky42YtFfnf"
      },
      "source": [
        "#Age\n",
        "gr = df_tr.groupby('Name')\n",
        "df_tr['Age'] = gr['Age'].apply(lambda x: x.fillna(x.median()))\n",
        "df_ts['Age'].fillna(df_ts['Age'].median(),inplace=True)"
      ],
      "execution_count": null,
      "outputs": []
    },
    {
      "cell_type": "code",
      "metadata": {
        "colab": {
          "base_uri": "https://localhost:8080/"
        },
        "id": "UURtkjIyFhTW",
        "outputId": "579a92f3-1c98-4182-8b17-21585b1b190c"
      },
      "source": [
        "#Ticket\n",
        "for i in list:\n",
        "    i.drop(['Ticket'],axis=1,inplace=True)\n",
        "df_tr.columns"
      ],
      "execution_count": null,
      "outputs": [
        {
          "output_type": "execute_result",
          "data": {
            "text/plain": [
              "Index(['Survived', 'Pclass', 'Name', 'Sex', 'Age', 'SibSp', 'Parch', 'Fare',\n",
              "       'Cabin', 'Embarked'],\n",
              "      dtype='object')"
            ]
          },
          "metadata": {
            "tags": []
          },
          "execution_count": 206
        }
      ]
    },
    {
      "cell_type": "code",
      "metadata": {
        "colab": {
          "base_uri": "https://localhost:8080/"
        },
        "id": "_FYt2O22FjFO",
        "outputId": "1e0af106-b93f-42f6-93a6-b8f982cc1c16"
      },
      "source": [
        "#Cabin\n",
        "for i in list:\n",
        "    i.drop(['Cabin'],axis=1,inplace=True)\n",
        "df_tr.columns"
      ],
      "execution_count": null,
      "outputs": [
        {
          "output_type": "execute_result",
          "data": {
            "text/plain": [
              "Index(['Survived', 'Pclass', 'Name', 'Sex', 'Age', 'SibSp', 'Parch', 'Fare',\n",
              "       'Embarked'],\n",
              "      dtype='object')"
            ]
          },
          "metadata": {
            "tags": []
          },
          "execution_count": 207
        }
      ]
    },
    {
      "cell_type": "code",
      "metadata": {
        "id": "-xHnc1yJFlmC"
      },
      "source": [
        "#Fare\n",
        "df_ts['Fare'].fillna(df_ts['Fare'].median(),inplace=True)\n",
        "for i in list:\n",
        "  scaler = StandardScaler()\n",
        "  i['Fare'] = scaler.fit_transform(i[['Fare']])"
      ],
      "execution_count": null,
      "outputs": []
    },
    {
      "cell_type": "code",
      "metadata": {
        "id": "mki5ODl1FnhV"
      },
      "source": [
        "#Embarked\n",
        "for i in list:\n",
        "    i['Embarked'].fillna(i['Embarked'].mode()[0],inplace=True)\n",
        "    le = LabelEncoder()\n",
        "    i['Embarked'] = le.fit_transform(i['Embarked'])"
      ],
      "execution_count": null,
      "outputs": []
    },
    {
      "cell_type": "code",
      "metadata": {
        "colab": {
          "base_uri": "https://localhost:8080/"
        },
        "id": "zWEmYCA3FpGk",
        "outputId": "855e0a12-c1e9-4ec4-b894-d24cb9de63b9"
      },
      "source": [
        "df_tr.isna().sum()"
      ],
      "execution_count": null,
      "outputs": [
        {
          "output_type": "execute_result",
          "data": {
            "text/plain": [
              "Survived    0\n",
              "Pclass      0\n",
              "Name        0\n",
              "Sex         0\n",
              "Age         0\n",
              "SibSp       0\n",
              "Parch       0\n",
              "Fare        0\n",
              "Embarked    0\n",
              "dtype: int64"
            ]
          },
          "metadata": {
            "tags": []
          },
          "execution_count": 210
        }
      ]
    },
    {
      "cell_type": "code",
      "metadata": {
        "colab": {
          "base_uri": "https://localhost:8080/"
        },
        "id": "QlLBMIoAFutZ",
        "outputId": "0493aca4-d66b-4512-ea4d-e6e86ced8e2f"
      },
      "source": [
        "df_ts.isna().sum()"
      ],
      "execution_count": null,
      "outputs": [
        {
          "output_type": "execute_result",
          "data": {
            "text/plain": [
              "Pclass      0\n",
              "Name        0\n",
              "Sex         0\n",
              "Age         0\n",
              "SibSp       0\n",
              "Parch       0\n",
              "Fare        0\n",
              "Embarked    0\n",
              "dtype: int64"
            ]
          },
          "metadata": {
            "tags": []
          },
          "execution_count": 211
        }
      ]
    },
    {
      "cell_type": "code",
      "metadata": {
        "id": "Zthi4NJxF1Vk"
      },
      "source": [
        "X = df_tr.iloc[:,1:]\n",
        "y = df_tr.iloc[:,0]"
      ],
      "execution_count": null,
      "outputs": []
    },
    {
      "cell_type": "code",
      "metadata": {
        "id": "LSVm4QofF4zR"
      },
      "source": [
        "X_train,X_test,y_train,y_test = train_test_split(X,y,random_state = 0)"
      ],
      "execution_count": null,
      "outputs": []
    },
    {
      "cell_type": "code",
      "metadata": {
        "id": "2umChf-dF6ou"
      },
      "source": [
        "def objective1(trial):\n",
        "        kernel = trial.suggest_categorical('kernel',['linear','rbf','poly','sigmoid'])\n",
        "        C = trial.suggest_loguniform('C', 1e-5, 1e2)\n",
        "        degree = trial.suggest_int('degree', 1,4)\n",
        "        clf = SVC(kernel=kernel, degree=degree,C=C)\n",
        "        return sklearn.model_selection.cross_val_score(clf,X_train,y_train,n_jobs=-1, cv=3).mean()\n",
        "    \n",
        "def objective2(trial):    \n",
        "        C = trial.suggest_loguniform('C', 1e-5, 1e2)\n",
        "        clf = LogisticRegression(C=C)\n",
        "        return sklearn.model_selection.cross_val_score(clf,X_train,y_train,n_jobs=-1, cv=3).mean()\n",
        "        \n",
        "def objective3(trial):\n",
        "        n_estimators = trial.suggest_int('n_estimators',2,120)\n",
        "        max_depth = int(trial.suggest_loguniform('max_depth', 1, 32))\n",
        "        clf = RandomForestClassifier(n_estimators = n_estimators, max_depth = max_depth)\n",
        "        return sklearn.model_selection.cross_val_score(clf,X_train,y_train,n_jobs=-1, cv=3).mean()\n",
        "    \n",
        "def objective4(trial):\n",
        "        n_estimators = trial.suggest_int('n_estimators',2,120)\n",
        "        learning_rate = trial.suggest_discrete_uniform('learning_rate', 0.1, 1.0, 0.1)\n",
        "        clf = GradientBoostingClassifier(n_estimators = n_estimators,learning_rate = learning_rate)\n",
        "        return sklearn.model_selection.cross_val_score(clf,X_train,y_train,n_jobs=-1, cv=3).mean()\n",
        "    \n",
        "def objective5(trial):\n",
        "        n_neighbors = trial.suggest_int('n_neighbors',3,30)\n",
        "        weights = trial.suggest_categorical('weights',['uniform','distance'])\n",
        "        clf = KNeighborsClassifier(n_neighbors=n_neighbors,weights=weights)\n",
        "        return sklearn.model_selection.cross_val_score(clf,X_train,y_train,n_jobs=-1, cv=3).mean()\n",
        "      \n",
        "def objective7(trial):\n",
        "        layers = trial.suggest_int('layers',1,7)\n",
        "        hidden_layer_sizes = []\n",
        "        for i in range(layers):\n",
        "          hidden_layer_sizes.append(trial.suggest_int('layer {} units: '.format(i+1),1,7))\n",
        "        activation = trial.suggest_categorical('activation',['identity','logistic','tanh','relu'])\n",
        "        clf = MLPClassifier(hidden_layer_sizes=tuple(hidden_layer_sizes), activation=activation)\n",
        "        return sklearn.model_selection.cross_val_score(clf,X_train,y_train,n_jobs=-1, cv=3).mean()\n",
        "    \n",
        "def objective6(trial):\n",
        "        learning_rate = trial.suggest_loguniform('learning_rate',1e-8, 1.0)\n",
        "        max_depth = trial.suggest_int('max_depth', 1, 32)\n",
        "        min_child_weight = trial.suggest_int('min_child_weight',1,5)\n",
        "        clf = XGBClassifier(learning_rate=learning_rate,max_depth=max_depth,min_child_weight=min_child_weight)\n",
        "        return sklearn.model_selection.cross_val_score(clf,X_train,y_train,n_jobs=-1, cv=3).mean()\n"
      ],
      "execution_count": null,
      "outputs": []
    },
    {
      "cell_type": "code",
      "metadata": {
        "colab": {
          "base_uri": "https://localhost:8080/"
        },
        "id": "4PovL-VwGB0M",
        "outputId": "a8c74afd-fdfe-4f5d-8ae8-6a19b5610551"
      },
      "source": [
        "objectives = [objective1,objective2,objective3,objective4,objective5,objective6,objective7]\n",
        "main_parameters = []\n",
        "\n",
        "for i in objectives:\n",
        "  study = optuna.create_study(direction='maximize')\n",
        "  study.optimize(i,n_trials=30)\n",
        "  trial = study.best_trial\n",
        "  score = trial.value\n",
        "  parameter = trial.params\n",
        "  main_parameters.append((score,parameter))"
      ],
      "execution_count": null,
      "outputs": [
        {
          "output_type": "stream",
          "text": [
            "\u001b[32m[I 2021-05-31 10:11:40,319]\u001b[0m A new study created in memory with name: no-name-cec0e756-cfee-4c9e-9664-3dbffabba6b7\u001b[0m\n",
            "\u001b[32m[I 2021-05-31 10:11:40,385]\u001b[0m Trial 0 finished with value: 0.7844099705086252 and parameters: {'kernel': 'rbf', 'C': 7.206143124097485, 'degree': 2}. Best is trial 0 with value: 0.7844099705086252.\u001b[0m\n",
            "\u001b[32m[I 2021-05-31 10:11:40,619]\u001b[0m Trial 1 finished with value: 0.7889481409660782 and parameters: {'kernel': 'linear', 'C': 0.3246759648459576, 'degree': 3}. Best is trial 1 with value: 0.7889481409660782.\u001b[0m\n",
            "\u001b[32m[I 2021-05-31 10:11:40,656]\u001b[0m Trial 2 finished with value: 0.6137707213940398 and parameters: {'kernel': 'linear', 'C': 1.0666878141996841e-05, 'degree': 3}. Best is trial 1 with value: 0.7889481409660782.\u001b[0m\n",
            "\u001b[32m[I 2021-05-31 10:11:40,716]\u001b[0m Trial 3 finished with value: 0.6137707213940398 and parameters: {'kernel': 'sigmoid', 'C': 0.01340805571013921, 'degree': 2}. Best is trial 1 with value: 0.7889481409660782.\u001b[0m\n",
            "\u001b[32m[I 2021-05-31 10:11:40,778]\u001b[0m Trial 4 finished with value: 0.6137707213940398 and parameters: {'kernel': 'sigmoid', 'C': 0.0034260244910486576, 'degree': 1}. Best is trial 1 with value: 0.7889481409660782.\u001b[0m\n",
            "\u001b[32m[I 2021-05-31 10:11:40,830]\u001b[0m Trial 5 finished with value: 0.6137707213940398 and parameters: {'kernel': 'rbf', 'C': 7.24658834792991e-05, 'degree': 1}. Best is trial 1 with value: 0.7889481409660782.\u001b[0m\n",
            "\u001b[32m[I 2021-05-31 10:11:40,877]\u001b[0m Trial 6 finished with value: 0.5733177123311654 and parameters: {'kernel': 'sigmoid', 'C': 5.704717286397527, 'degree': 2}. Best is trial 1 with value: 0.7889481409660782.\u001b[0m\n",
            "\u001b[32m[I 2021-05-31 10:11:40,919]\u001b[0m Trial 7 finished with value: 0.6137707213940398 and parameters: {'kernel': 'poly', 'C': 0.00038433153438244906, 'degree': 2}. Best is trial 1 with value: 0.7889481409660782.\u001b[0m\n",
            "\u001b[32m[I 2021-05-31 10:11:41,144]\u001b[0m Trial 8 finished with value: 0.7889481409660782 and parameters: {'kernel': 'linear', 'C': 0.24612131945329538, 'degree': 3}. Best is trial 1 with value: 0.7889481409660782.\u001b[0m\n",
            "\u001b[32m[I 2021-05-31 10:11:41,197]\u001b[0m Trial 9 finished with value: 0.6242340995704224 and parameters: {'kernel': 'rbf', 'C': 0.548681325694387, 'degree': 1}. Best is trial 1 with value: 0.7889481409660782.\u001b[0m\n",
            "\u001b[32m[I 2021-05-31 10:11:42,277]\u001b[0m Trial 10 finished with value: 0.7889481409660782 and parameters: {'kernel': 'linear', 'C': 0.5955113664998757, 'degree': 4}. Best is trial 1 with value: 0.7889481409660782.\u001b[0m\n",
            "\u001b[32m[I 2021-05-31 10:11:42,380]\u001b[0m Trial 11 finished with value: 0.7889481409660782 and parameters: {'kernel': 'linear', 'C': 0.19558855185429805, 'degree': 4}. Best is trial 1 with value: 0.7889481409660782.\u001b[0m\n",
            "\u001b[32m[I 2021-05-31 10:12:10,698]\u001b[0m Trial 12 finished with value: 0.7889481409660782 and parameters: {'kernel': 'linear', 'C': 47.9570175280351, 'degree': 3}. Best is trial 1 with value: 0.7889481409660782.\u001b[0m\n",
            "\u001b[32m[I 2021-05-31 10:12:10,777]\u001b[0m Trial 13 finished with value: 0.7889481409660782 and parameters: {'kernel': 'linear', 'C': 0.06185583155478841, 'degree': 3}. Best is trial 1 with value: 0.7889481409660782.\u001b[0m\n",
            "\u001b[32m[I 2021-05-31 10:12:13,567]\u001b[0m Trial 14 finished with value: 0.7889481409660782 and parameters: {'kernel': 'linear', 'C': 1.8323573348180053, 'degree': 4}. Best is trial 1 with value: 0.7889481409660782.\u001b[0m\n",
            "\u001b[32m[I 2021-05-31 10:12:13,721]\u001b[0m Trial 15 finished with value: 0.8099287628435611 and parameters: {'kernel': 'poly', 'C': 75.9580764307269, 'degree': 3}. Best is trial 15 with value: 0.8099287628435611.\u001b[0m\n",
            "\u001b[32m[I 2021-05-31 10:12:13,840]\u001b[0m Trial 16 finished with value: 0.8113965983921142 and parameters: {'kernel': 'poly', 'C': 53.67905913683968, 'degree': 3}. Best is trial 16 with value: 0.8113965983921142.\u001b[0m\n",
            "\u001b[32m[I 2021-05-31 10:12:14,155]\u001b[0m Trial 17 finished with value: 0.7678934539921087 and parameters: {'kernel': 'poly', 'C': 86.39639857904513, 'degree': 4}. Best is trial 16 with value: 0.8113965983921142.\u001b[0m\n",
            "\u001b[32m[I 2021-05-31 10:12:14,226]\u001b[0m Trial 18 finished with value: 0.7709031901857015 and parameters: {'kernel': 'poly', 'C': 20.391107833678053, 'degree': 3}. Best is trial 16 with value: 0.8113965983921142.\u001b[0m\n",
            "\u001b[32m[I 2021-05-31 10:12:14,310]\u001b[0m Trial 19 finished with value: 0.8069324930311477 and parameters: {'kernel': 'poly', 'C': 69.40359604835123, 'degree': 2}. Best is trial 16 with value: 0.8113965983921142.\u001b[0m\n",
            "\u001b[32m[I 2021-05-31 10:12:14,387]\u001b[0m Trial 20 finished with value: 0.7783702985496707 and parameters: {'kernel': 'poly', 'C': 10.41483547496863, 'degree': 3}. Best is trial 16 with value: 0.8113965983921142.\u001b[0m\n",
            "\u001b[32m[I 2021-05-31 10:12:14,485]\u001b[0m Trial 21 finished with value: 0.8114302643450625 and parameters: {'kernel': 'poly', 'C': 89.85921687847295, 'degree': 2}. Best is trial 21 with value: 0.8114302643450625.\u001b[0m\n",
            "\u001b[32m[I 2021-05-31 10:12:14,570]\u001b[0m Trial 22 finished with value: 0.8069324930311477 and parameters: {'kernel': 'poly', 'C': 68.92402248119052, 'degree': 2}. Best is trial 21 with value: 0.8114302643450625.\u001b[0m\n",
            "\u001b[32m[I 2021-05-31 10:12:14,628]\u001b[0m Trial 23 finished with value: 0.7035510847170041 and parameters: {'kernel': 'poly', 'C': 4.125466165041692, 'degree': 3}. Best is trial 21 with value: 0.8114302643450625.\u001b[0m\n",
            "\u001b[32m[I 2021-05-31 10:12:14,695]\u001b[0m Trial 24 finished with value: 0.8099220296529713 and parameters: {'kernel': 'poly', 'C': 23.70050395943058, 'degree': 2}. Best is trial 21 with value: 0.8114302643450625.\u001b[0m\n",
            "\u001b[32m[I 2021-05-31 10:12:14,889]\u001b[0m Trial 25 finished with value: 0.8069392262217375 and parameters: {'kernel': 'poly', 'C': 93.18857721084893, 'degree': 3}. Best is trial 21 with value: 0.8114302643450625.\u001b[0m\n",
            "\u001b[32m[I 2021-05-31 10:12:14,940]\u001b[0m Trial 26 finished with value: 0.6332229090076623 and parameters: {'kernel': 'poly', 'C': 1.6267717955246144, 'degree': 2}. Best is trial 21 with value: 0.8114302643450625.\u001b[0m\n",
            "\u001b[32m[I 2021-05-31 10:12:15,062]\u001b[0m Trial 27 finished with value: 0.7394793897036048 and parameters: {'kernel': 'poly', 'C': 26.201845491361194, 'degree': 4}. Best is trial 21 with value: 0.8114302643450625.\u001b[0m\n",
            "\u001b[32m[I 2021-05-31 10:12:15,114]\u001b[0m Trial 28 finished with value: 0.6781265570503239 and parameters: {'kernel': 'poly', 'C': 2.3776267834110842, 'degree': 3}. Best is trial 21 with value: 0.8114302643450625.\u001b[0m\n",
            "\u001b[32m[I 2021-05-31 10:12:15,172]\u001b[0m Trial 29 finished with value: 0.8248831791432689 and parameters: {'kernel': 'rbf', 'C': 12.000150097151142, 'degree': 1}. Best is trial 29 with value: 0.8248831791432689.\u001b[0m\n",
            "\u001b[32m[I 2021-05-31 10:12:15,174]\u001b[0m A new study created in memory with name: no-name-3b8cd0c6-811d-4d07-9d09-09e9825d9259\u001b[0m\n",
            "\u001b[32m[I 2021-05-31 10:12:15,216]\u001b[0m Trial 0 finished with value: 0.6137707213940398 and parameters: {'C': 2.332625808660406e-05}. Best is trial 0 with value: 0.6137707213940398.\u001b[0m\n",
            "\u001b[32m[I 2021-05-31 10:12:15,300]\u001b[0m Trial 1 finished with value: 0.7904631088487591 and parameters: {'C': 1.3834575511769367}. Best is trial 1 with value: 0.7904631088487591.\u001b[0m\n",
            "\u001b[32m[I 2021-05-31 10:12:15,380]\u001b[0m Trial 2 finished with value: 0.7889683405378473 and parameters: {'C': 21.90970523897646}. Best is trial 1 with value: 0.7904631088487591.\u001b[0m\n",
            "\u001b[32m[I 2021-05-31 10:12:15,448]\u001b[0m Trial 3 finished with value: 0.7424958590877874 and parameters: {'C': 0.017082398277481356}. Best is trial 1 with value: 0.7904631088487591.\u001b[0m\n",
            "\u001b[32m[I 2021-05-31 10:12:15,532]\u001b[0m Trial 4 finished with value: 0.7889683405378473 and parameters: {'C': 11.756193037858933}. Best is trial 1 with value: 0.7904631088487591.\u001b[0m\n",
            "\u001b[32m[I 2021-05-31 10:12:15,572]\u001b[0m Trial 5 finished with value: 0.6137707213940398 and parameters: {'C': 1.0092236325342848e-05}. Best is trial 1 with value: 0.7904631088487591.\u001b[0m\n",
            "\u001b[32m[I 2021-05-31 10:12:15,645]\u001b[0m Trial 6 finished with value: 0.8069190266499683 and parameters: {'C': 0.10772272917230252}. Best is trial 6 with value: 0.8069190266499683.\u001b[0m\n",
            "\u001b[32m[I 2021-05-31 10:12:15,725]\u001b[0m Trial 7 finished with value: 0.7889683405378473 and parameters: {'C': 69.05413862194216}. Best is trial 6 with value: 0.8069190266499683.\u001b[0m\n",
            "\u001b[32m[I 2021-05-31 10:12:15,772]\u001b[0m Trial 8 finished with value: 0.6137707213940398 and parameters: {'C': 2.0020200591792317e-05}. Best is trial 6 with value: 0.8069190266499683.\u001b[0m\n",
            "\u001b[32m[I 2021-05-31 10:12:15,879]\u001b[0m Trial 9 finished with value: 0.7889683405378473 and parameters: {'C': 48.32014120687066}. Best is trial 6 with value: 0.8069190266499683.\u001b[0m\n",
            "\u001b[32m[I 2021-05-31 10:12:15,939]\u001b[0m Trial 10 finished with value: 0.720033935280572 and parameters: {'C': 0.008029469939443637}. Best is trial 6 with value: 0.8069190266499683.\u001b[0m\n",
            "\u001b[32m[I 2021-05-31 10:12:16,024]\u001b[0m Trial 11 finished with value: 0.7949541469720843 and parameters: {'C': 0.5619181689940922}. Best is trial 6 with value: 0.8069190266499683.\u001b[0m\n",
            "\u001b[32m[I 2021-05-31 10:12:16,110]\u001b[0m Trial 12 finished with value: 0.7979436835939078 and parameters: {'C': 0.33568581709669076}. Best is trial 6 with value: 0.8069190266499683.\u001b[0m\n",
            "\u001b[32m[I 2021-05-31 10:12:16,158]\u001b[0m Trial 13 finished with value: 0.6152654897049515 and parameters: {'C': 0.0006685432314088949}. Best is trial 6 with value: 0.8069190266499683.\u001b[0m\n",
            "\u001b[32m[I 2021-05-31 10:12:16,255]\u001b[0m Trial 14 finished with value: 0.7994451850954093 and parameters: {'C': 0.21339840508052385}. Best is trial 6 with value: 0.8069190266499683.\u001b[0m\n",
            "\u001b[32m[I 2021-05-31 10:12:16,332]\u001b[0m Trial 15 finished with value: 0.8024279885266431 and parameters: {'C': 0.08661324682491352}. Best is trial 6 with value: 0.8069190266499683.\u001b[0m\n",
            "\u001b[32m[I 2021-05-31 10:12:16,387]\u001b[0m Trial 16 finished with value: 0.633209442626483 and parameters: {'C': 0.0015136580004900255}. Best is trial 6 with value: 0.8069190266499683.\u001b[0m\n",
            "\u001b[32m[I 2021-05-31 10:12:16,469]\u001b[0m Trial 17 finished with value: 0.8054107919578771 and parameters: {'C': 0.061767547953849956}. Best is trial 6 with value: 0.8069190266499683.\u001b[0m\n",
            "\u001b[32m[I 2021-05-31 10:12:16,552]\u001b[0m Trial 18 finished with value: 0.7889683405378473 and parameters: {'C': 2.8228671404433037}. Best is trial 6 with value: 0.8069190266499683.\u001b[0m\n",
            "\u001b[32m[I 2021-05-31 10:12:16,610]\u001b[0m Trial 19 finished with value: 0.6691242812319045 and parameters: {'C': 0.0035350773893824522}. Best is trial 6 with value: 0.8069190266499683.\u001b[0m\n",
            "\u001b[32m[I 2021-05-31 10:12:16,656]\u001b[0m Trial 20 finished with value: 0.6137707213940398 and parameters: {'C': 0.00022739410338744044}. Best is trial 6 with value: 0.8069190266499683.\u001b[0m\n",
            "\u001b[32m[I 2021-05-31 10:12:16,731]\u001b[0m Trial 21 finished with value: 0.7919309443973122 and parameters: {'C': 0.03624222571549968}. Best is trial 6 with value: 0.8069190266499683.\u001b[0m\n",
            "\u001b[32m[I 2021-05-31 10:12:16,801]\u001b[0m Trial 22 finished with value: 0.8054175251484669 and parameters: {'C': 0.07352470321804841}. Best is trial 6 with value: 0.8069190266499683.\u001b[0m\n",
            "\u001b[32m[I 2021-05-31 10:12:16,883]\u001b[0m Trial 23 finished with value: 0.8084003285797007 and parameters: {'C': 0.056210518961330586}. Best is trial 23 with value: 0.8084003285797007.\u001b[0m\n",
            "\u001b[32m[I 2021-05-31 10:12:16,966]\u001b[0m Trial 24 finished with value: 0.7994384519048197 and parameters: {'C': 0.12693002132087405}. Best is trial 23 with value: 0.8084003285797007.\u001b[0m\n",
            "\u001b[32m[I 2021-05-31 10:12:17,029]\u001b[0m Trial 25 finished with value: 0.7380115541550519 and parameters: {'C': 0.016208922613318126}. Best is trial 23 with value: 0.8084003285797007.\u001b[0m\n",
            "\u001b[32m[I 2021-05-31 10:12:17,120]\u001b[0m Trial 26 finished with value: 0.7889683405378473 and parameters: {'C': 4.12539094994425}. Best is trial 23 with value: 0.8084003285797007.\u001b[0m\n",
            "\u001b[32m[I 2021-05-31 10:12:17,212]\u001b[0m Trial 27 finished with value: 0.7904631088487591 and parameters: {'C': 1.0841466333075083}. Best is trial 23 with value: 0.8084003285797007.\u001b[0m\n",
            "\u001b[32m[I 2021-05-31 10:12:17,273]\u001b[0m Trial 28 finished with value: 0.696097442734214 and parameters: {'C': 0.005282681344437301}. Best is trial 23 with value: 0.8084003285797007.\u001b[0m\n",
            "\u001b[32m[I 2021-05-31 10:12:17,323]\u001b[0m Trial 29 finished with value: 0.6137707213940398 and parameters: {'C': 0.0001896305668910209}. Best is trial 23 with value: 0.8084003285797007.\u001b[0m\n",
            "\u001b[32m[I 2021-05-31 10:12:17,324]\u001b[0m A new study created in memory with name: no-name-29756c76-77eb-4c8c-a85b-8f496357fbe4\u001b[0m\n",
            "\u001b[32m[I 2021-05-31 10:12:17,690]\u001b[0m Trial 0 finished with value: 0.7529727036453494 and parameters: {'n_estimators': 84, 'max_depth': 1.1546789010763592}. Best is trial 0 with value: 0.7529727036453494.\u001b[0m\n",
            "\u001b[32m[I 2021-05-31 10:12:18,098]\u001b[0m Trial 1 finished with value: 0.8278659825745027 and parameters: {'n_estimators': 90, 'max_depth': 7.807478039826465}. Best is trial 1 with value: 0.8278659825745027.\u001b[0m\n",
            "\u001b[32m[I 2021-05-31 10:12:18,379]\u001b[0m Trial 2 finished with value: 0.811376398820345 and parameters: {'n_estimators': 60, 'max_depth': 8.931597629015359}. Best is trial 1 with value: 0.8278659825745027.\u001b[0m\n",
            "\u001b[32m[I 2021-05-31 10:12:18,640]\u001b[0m Trial 3 finished with value: 0.7574502753874951 and parameters: {'n_estimators': 61, 'max_depth': 1.5797430908377044}. Best is trial 1 with value: 0.8278659825745027.\u001b[0m\n",
            "\u001b[32m[I 2021-05-31 10:12:18,976]\u001b[0m Trial 4 finished with value: 0.8039160236469653 and parameters: {'n_estimators': 70, 'max_depth': 13.726973601081871}. Best is trial 1 with value: 0.8278659825745027.\u001b[0m\n",
            "\u001b[32m[I 2021-05-31 10:12:19,437]\u001b[0m Trial 5 finished with value: 0.8054107919578772 and parameters: {'n_estimators': 113, 'max_depth': 2.1749991329231553}. Best is trial 1 with value: 0.8278659825745027.\u001b[0m\n",
            "\u001b[32m[I 2021-05-31 10:12:19,541]\u001b[0m Trial 6 finished with value: 0.7933651139929166 and parameters: {'n_estimators': 20, 'max_depth': 2.325162317602049}. Best is trial 1 with value: 0.8278659825745027.\u001b[0m\n",
            "\u001b[32m[I 2021-05-31 10:12:19,751]\u001b[0m Trial 7 finished with value: 0.8278727157650924 and parameters: {'n_estimators': 46, 'max_depth': 4.177305633161046}. Best is trial 7 with value: 0.8278727157650924.\u001b[0m\n",
            "\u001b[32m[I 2021-05-31 10:12:19,807]\u001b[0m Trial 8 finished with value: 0.7874331730833973 and parameters: {'n_estimators': 6, 'max_depth': 25.504941774063862}. Best is trial 7 with value: 0.8278727157650924.\u001b[0m\n",
            "\u001b[32m[I 2021-05-31 10:12:19,928]\u001b[0m Trial 9 finished with value: 0.8009130206439624 and parameters: {'n_estimators': 20, 'max_depth': 8.12601399135512}. Best is trial 7 with value: 0.8278727157650924.\u001b[0m\n",
            "\u001b[32m[I 2021-05-31 10:12:20,123]\u001b[0m Trial 10 finished with value: 0.826371214263591 and parameters: {'n_estimators': 40, 'max_depth': 4.590230677707801}. Best is trial 7 with value: 0.8278727157650924.\u001b[0m\n",
            "\u001b[32m[I 2021-05-31 10:12:20,567]\u001b[0m Trial 11 finished with value: 0.8188704399466732 and parameters: {'n_estimators': 102, 'max_depth': 4.08420683062188}. Best is trial 7 with value: 0.8278727157650924.\u001b[0m\n",
            "\u001b[32m[I 2021-05-31 10:12:21,008]\u001b[0m Trial 12 finished with value: 0.7934391790894034 and parameters: {'n_estimators': 92, 'max_depth': 19.06321104467285}. Best is trial 7 with value: 0.8278727157650924.\u001b[0m\n",
            "\u001b[32m[I 2021-05-31 10:12:21,235]\u001b[0m Trial 13 finished with value: 0.8203652082575849 and parameters: {'n_estimators': 45, 'max_depth': 6.593350753261395}. Best is trial 7 with value: 0.8278727157650924.\u001b[0m\n",
            "\u001b[32m[I 2021-05-31 10:12:21,745]\u001b[0m Trial 14 finished with value: 0.8218936425214451 and parameters: {'n_estimators': 120, 'max_depth': 3.6521772763680365}. Best is trial 7 with value: 0.8278727157650924.\u001b[0m\n",
            "\u001b[32m[I 2021-05-31 10:12:22,129]\u001b[0m Trial 15 finished with value: 0.8084137949608801 and parameters: {'n_estimators': 80, 'max_depth': 11.177945201520723}. Best is trial 7 with value: 0.8278727157650924.\u001b[0m\n",
            "\u001b[32m[I 2021-05-31 10:12:22,337]\u001b[0m Trial 16 finished with value: 0.823388410832357 and parameters: {'n_estimators': 43, 'max_depth': 3.1167159918998064}. Best is trial 7 with value: 0.8278727157650924.\u001b[0m\n",
            "\u001b[32m[I 2021-05-31 10:12:22,813]\u001b[0m Trial 17 finished with value: 0.8278727157650924 and parameters: {'n_estimators': 102, 'max_depth': 5.887232268448983}. Best is trial 7 with value: 0.8278727157650924.\u001b[0m\n",
            "\u001b[32m[I 2021-05-31 10:12:22,974]\u001b[0m Trial 18 finished with value: 0.8248495131903203 and parameters: {'n_estimators': 28, 'max_depth': 5.463362045914905}. Best is trial 7 with value: 0.8278727157650924.\u001b[0m\n",
            "\u001b[32m[I 2021-05-31 10:12:23,259]\u001b[0m Trial 19 finished with value: 0.7859182052007165 and parameters: {'n_estimators': 59, 'max_depth': 2.5234778318828117}. Best is trial 7 with value: 0.8278727157650924.\u001b[0m\n",
            "\u001b[32m[I 2021-05-31 10:12:23,744]\u001b[0m Trial 20 finished with value: 0.829374217266594 and parameters: {'n_estimators': 108, 'max_depth': 5.37976883025098}. Best is trial 20 with value: 0.829374217266594.\u001b[0m\n",
            "\u001b[32m[I 2021-05-31 10:12:24,230]\u001b[0m Trial 21 finished with value: 0.8263644810730013 and parameters: {'n_estimators': 108, 'max_depth': 6.105620481546728}. Best is trial 20 with value: 0.829374217266594.\u001b[0m\n",
            "\u001b[32m[I 2021-05-31 10:12:24,759]\u001b[0m Trial 22 finished with value: 0.8278659825745027 and parameters: {'n_estimators': 119, 'max_depth': 5.044621305626782}. Best is trial 20 with value: 0.829374217266594.\u001b[0m\n",
            "\u001b[32m[I 2021-05-31 10:12:25,179]\u001b[0m Trial 23 finished with value: 0.8219071089026246 and parameters: {'n_estimators': 98, 'max_depth': 3.221758259946175}. Best is trial 20 with value: 0.829374217266594.\u001b[0m\n",
            "\u001b[32m[I 2021-05-31 10:12:25,548]\u001b[0m Trial 24 finished with value: 0.8084070617702904 and parameters: {'n_estimators': 76, 'max_depth': 10.22809645210249}. Best is trial 20 with value: 0.829374217266594.\u001b[0m\n",
            "\u001b[32m[I 2021-05-31 10:12:25,840]\u001b[0m Trial 25 finished with value: 0.7994249855236402 and parameters: {'n_estimators': 54, 'max_depth': 15.761508588319067}. Best is trial 20 with value: 0.829374217266594.\u001b[0m\n",
            "\u001b[32m[I 2021-05-31 10:12:26,297]\u001b[0m Trial 26 finished with value: 0.7574839413404435 and parameters: {'n_estimators': 107, 'max_depth': 1.566321095917428}. Best is trial 20 with value: 0.829374217266594.\u001b[0m\n",
            "\u001b[32m[I 2021-05-31 10:12:26,461]\u001b[0m Trial 27 finished with value: 0.8278659825745027 and parameters: {'n_estimators': 32, 'max_depth': 6.718347524920073}. Best is trial 20 with value: 0.829374217266594.\u001b[0m\n",
            "\u001b[32m[I 2021-05-31 10:12:26,788]\u001b[0m Trial 28 finished with value: 0.8159011028966185 and parameters: {'n_estimators': 71, 'max_depth': 4.316379318241582}. Best is trial 20 with value: 0.829374217266594.\u001b[0m\n",
            "\u001b[32m[I 2021-05-31 10:12:27,142]\u001b[0m Trial 29 finished with value: 0.7694151550653793 and parameters: {'n_estimators': 83, 'max_depth': 1.684764801058246}. Best is trial 20 with value: 0.829374217266594.\u001b[0m\n",
            "\u001b[32m[I 2021-05-31 10:12:27,144]\u001b[0m A new study created in memory with name: no-name-4e3590b7-ac4c-4b87-a0e2-5abb5530d026\u001b[0m\n",
            "\u001b[32m[I 2021-05-31 10:12:27,260]\u001b[0m Trial 0 finished with value: 0.8263510146918218 and parameters: {'n_estimators': 35, 'learning_rate': 0.1}. Best is trial 0 with value: 0.8263510146918218.\u001b[0m\n",
            "\u001b[32m[I 2021-05-31 10:12:27,363]\u001b[0m Trial 1 finished with value: 0.7784712964085161 and parameters: {'n_estimators': 30, 'learning_rate': 0.7000000000000001}. Best is trial 0 with value: 0.8263510146918218.\u001b[0m\n",
            "\u001b[32m[I 2021-05-31 10:12:27,508]\u001b[0m Trial 2 finished with value: 0.8068988270781993 and parameters: {'n_estimators': 44, 'learning_rate': 0.4}. Best is trial 0 with value: 0.8263510146918218.\u001b[0m\n",
            "\u001b[32m[I 2021-05-31 10:12:27,547]\u001b[0m Trial 3 finished with value: 0.814359202251579 and parameters: {'n_estimators': 4, 'learning_rate': 0.5}. Best is trial 0 with value: 0.8263510146918218.\u001b[0m\n",
            "\u001b[32m[I 2021-05-31 10:12:27,674]\u001b[0m Trial 4 finished with value: 0.7844773024145222 and parameters: {'n_estimators': 40, 'learning_rate': 1.0}. Best is trial 0 with value: 0.8263510146918218.\u001b[0m\n",
            "\u001b[32m[I 2021-05-31 10:12:27,900]\u001b[0m Trial 5 finished with value: 0.7979436835939078 and parameters: {'n_estimators': 80, 'learning_rate': 0.4}. Best is trial 0 with value: 0.8263510146918218.\u001b[0m\n",
            "\u001b[32m[I 2021-05-31 10:12:28,223]\u001b[0m Trial 6 finished with value: 0.7904496424675798 and parameters: {'n_estimators': 120, 'learning_rate': 0.30000000000000004}. Best is trial 0 with value: 0.8263510146918218.\u001b[0m\n",
            "\u001b[32m[I 2021-05-31 10:12:28,486]\u001b[0m Trial 7 finished with value: 0.7964758480453548 and parameters: {'n_estimators': 97, 'learning_rate': 0.5}. Best is trial 0 with value: 0.8263510146918218.\u001b[0m\n",
            "\u001b[32m[I 2021-05-31 10:12:28,785]\u001b[0m Trial 8 finished with value: 0.8099018300812023 and parameters: {'n_estimators': 113, 'learning_rate': 0.1}. Best is trial 0 with value: 0.8263510146918218.\u001b[0m\n",
            "\u001b[32m[I 2021-05-31 10:12:28,941]\u001b[0m Trial 9 finished with value: 0.8099018300812023 and parameters: {'n_estimators': 48, 'learning_rate': 0.4}. Best is trial 0 with value: 0.8263510146918218.\u001b[0m\n",
            "\u001b[32m[I 2021-05-31 10:12:28,981]\u001b[0m Trial 10 finished with value: 0.799364386808333 and parameters: {'n_estimators': 3, 'learning_rate': 0.1}. Best is trial 0 with value: 0.8263510146918218.\u001b[0m\n",
            "\u001b[32m[I 2021-05-31 10:12:29,022]\u001b[0m Trial 11 finished with value: 0.7964421820924064 and parameters: {'n_estimators': 3, 'learning_rate': 0.8}. Best is trial 0 with value: 0.8263510146918218.\u001b[0m\n",
            "\u001b[32m[I 2021-05-31 10:12:29,118]\u001b[0m Trial 12 finished with value: 0.830842052815147 and parameters: {'n_estimators': 20, 'learning_rate': 0.2}. Best is trial 12 with value: 0.830842052815147.\u001b[0m\n",
            "\u001b[32m[I 2021-05-31 10:12:29,206]\u001b[0m Trial 13 finished with value: 0.8278457830027337 and parameters: {'n_estimators': 23, 'learning_rate': 0.2}. Best is trial 12 with value: 0.830842052815147.\u001b[0m\n",
            "\u001b[32m[I 2021-05-31 10:12:29,288]\u001b[0m Trial 14 finished with value: 0.8293405513136455 and parameters: {'n_estimators': 19, 'learning_rate': 0.2}. Best is trial 12 with value: 0.830842052815147.\u001b[0m\n",
            "\u001b[32m[I 2021-05-31 10:12:29,363]\u001b[0m Trial 15 finished with value: 0.8263510146918218 and parameters: {'n_estimators': 16, 'learning_rate': 0.2}. Best is trial 12 with value: 0.830842052815147.\u001b[0m\n",
            "\u001b[32m[I 2021-05-31 10:12:29,538]\u001b[0m Trial 16 finished with value: 0.8203988742105334 and parameters: {'n_estimators': 61, 'learning_rate': 0.2}. Best is trial 12 with value: 0.830842052815147.\u001b[0m\n",
            "\u001b[32m[I 2021-05-31 10:12:29,721]\u001b[0m Trial 17 finished with value: 0.7829825341036103 and parameters: {'n_estimators': 62, 'learning_rate': 0.7000000000000001}. Best is trial 12 with value: 0.830842052815147.\u001b[0m\n",
            "\u001b[32m[I 2021-05-31 10:12:29,787]\u001b[0m Trial 18 finished with value: 0.8158809033248495 and parameters: {'n_estimators': 13, 'learning_rate': 0.30000000000000004}. Best is trial 12 with value: 0.830842052815147.\u001b[0m\n",
            "\u001b[32m[I 2021-05-31 10:12:30,018]\u001b[0m Trial 19 finished with value: 0.7994384519048197 and parameters: {'n_estimators': 77, 'learning_rate': 0.30000000000000004}. Best is trial 12 with value: 0.830842052815147.\u001b[0m\n",
            "\u001b[32m[I 2021-05-31 10:12:30,118]\u001b[0m Trial 20 finished with value: 0.806905560268789 and parameters: {'n_estimators': 23, 'learning_rate': 0.6}. Best is trial 12 with value: 0.830842052815147.\u001b[0m\n",
            "\u001b[32m[I 2021-05-31 10:12:30,199]\u001b[0m Trial 21 finished with value: 0.830842052815147 and parameters: {'n_estimators': 20, 'learning_rate': 0.2}. Best is trial 12 with value: 0.830842052815147.\u001b[0m\n",
            "\u001b[32m[I 2021-05-31 10:12:30,268]\u001b[0m Trial 22 finished with value: 0.8233614780699984 and parameters: {'n_estimators': 14, 'learning_rate': 0.2}. Best is trial 12 with value: 0.830842052815147.\u001b[0m\n",
            "\u001b[32m[I 2021-05-31 10:12:30,382]\u001b[0m Trial 23 finished with value: 0.8218667097590865 and parameters: {'n_estimators': 29, 'learning_rate': 0.1}. Best is trial 12 with value: 0.830842052815147.\u001b[0m\n",
            "\u001b[32m[I 2021-05-31 10:12:30,536]\u001b[0m Trial 24 finished with value: 0.8084137949608801 and parameters: {'n_estimators': 51, 'learning_rate': 0.30000000000000004}. Best is trial 12 with value: 0.830842052815147.\u001b[0m\n",
            "\u001b[32m[I 2021-05-31 10:12:30,600]\u001b[0m Trial 25 finished with value: 0.8203719414481746 and parameters: {'n_estimators': 12, 'learning_rate': 0.2}. Best is trial 12 with value: 0.830842052815147.\u001b[0m\n",
            "\u001b[32m[I 2021-05-31 10:12:30,686]\u001b[0m Trial 26 finished with value: 0.8218667097590865 and parameters: {'n_estimators': 20, 'learning_rate': 0.1}. Best is trial 12 with value: 0.830842052815147.\u001b[0m\n",
            "\u001b[32m[I 2021-05-31 10:12:30,805]\u001b[0m Trial 27 finished with value: 0.8038890908846067 and parameters: {'n_estimators': 33, 'learning_rate': 0.4}. Best is trial 12 with value: 0.830842052815147.\u001b[0m\n",
            "\u001b[32m[I 2021-05-31 10:12:30,849]\u001b[0m Trial 28 finished with value: 0.8158607037530805 and parameters: {'n_estimators': 2, 'learning_rate': 0.30000000000000004}. Best is trial 12 with value: 0.830842052815147.\u001b[0m\n",
            "\u001b[32m[I 2021-05-31 10:12:30,975]\u001b[0m Trial 29 finished with value: 0.8233614780699984 and parameters: {'n_estimators': 38, 'learning_rate': 0.1}. Best is trial 12 with value: 0.830842052815147.\u001b[0m\n",
            "\u001b[32m[I 2021-05-31 10:12:30,977]\u001b[0m A new study created in memory with name: no-name-85248f70-51d8-41ac-b874-e921d411d169\u001b[0m\n",
            "\u001b[32m[I 2021-05-31 10:12:31,016]\u001b[0m Trial 0 finished with value: 0.7335676483658546 and parameters: {'n_neighbors': 14, 'weights': 'distance'}. Best is trial 0 with value: 0.7335676483658546.\u001b[0m\n",
            "\u001b[32m[I 2021-05-31 10:12:31,072]\u001b[0m Trial 1 finished with value: 0.6721407506160869 and parameters: {'n_neighbors': 29, 'weights': 'uniform'}. Best is trial 0 with value: 0.7335676483658546.\u001b[0m\n",
            "\u001b[32m[I 2021-05-31 10:12:31,114]\u001b[0m Trial 2 finished with value: 0.7335676483658546 and parameters: {'n_neighbors': 14, 'weights': 'distance'}. Best is trial 0 with value: 0.7335676483658546.\u001b[0m\n",
            "\u001b[32m[I 2021-05-31 10:12:31,168]\u001b[0m Trial 3 finished with value: 0.7111191909398187 and parameters: {'n_neighbors': 19, 'weights': 'uniform'}. Best is trial 0 with value: 0.7335676483658546.\u001b[0m\n",
            "\u001b[32m[I 2021-05-31 10:12:31,222]\u001b[0m Trial 4 finished with value: 0.7634966805370392 and parameters: {'n_neighbors': 3, 'weights': 'uniform'}. Best is trial 4 with value: 0.7634966805370392.\u001b[0m\n",
            "\u001b[32m[I 2021-05-31 10:12:31,259]\u001b[0m Trial 5 finished with value: 0.7081027215556364 and parameters: {'n_neighbors': 27, 'weights': 'distance'}. Best is trial 4 with value: 0.7634966805370392.\u001b[0m\n",
            "\u001b[32m[I 2021-05-31 10:12:31,321]\u001b[0m Trial 6 finished with value: 0.7200878008052896 and parameters: {'n_neighbors': 15, 'weights': 'uniform'}. Best is trial 4 with value: 0.7634966805370392.\u001b[0m\n",
            "\u001b[32m[I 2021-05-31 10:12:31,358]\u001b[0m Trial 7 finished with value: 0.7350422171049974 and parameters: {'n_neighbors': 10, 'weights': 'distance'}. Best is trial 4 with value: 0.7634966805370392.\u001b[0m\n",
            "\u001b[32m[I 2021-05-31 10:12:31,399]\u001b[0m Trial 8 finished with value: 0.7156034958725542 and parameters: {'n_neighbors': 25, 'weights': 'distance'}. Best is trial 4 with value: 0.7634966805370392.\u001b[0m\n",
            "\u001b[32m[I 2021-05-31 10:12:31,438]\u001b[0m Trial 9 finished with value: 0.7156034958725542 and parameters: {'n_neighbors': 25, 'weights': 'distance'}. Best is trial 4 with value: 0.7634966805370392.\u001b[0m\n",
            "\u001b[32m[I 2021-05-31 10:12:31,493]\u001b[0m Trial 10 finished with value: 0.7425362582313255 and parameters: {'n_neighbors': 4, 'weights': 'uniform'}. Best is trial 4 with value: 0.7634966805370392.\u001b[0m\n",
            "\u001b[32m[I 2021-05-31 10:12:31,549]\u001b[0m Trial 11 finished with value: 0.7634966805370392 and parameters: {'n_neighbors': 3, 'weights': 'uniform'}. Best is trial 4 with value: 0.7634966805370392.\u001b[0m\n",
            "\u001b[32m[I 2021-05-31 10:12:31,610]\u001b[0m Trial 12 finished with value: 0.7634966805370392 and parameters: {'n_neighbors': 3, 'weights': 'uniform'}. Best is trial 4 with value: 0.7634966805370392.\u001b[0m\n",
            "\u001b[32m[I 2021-05-31 10:12:31,667]\u001b[0m Trial 13 finished with value: 0.7245721057380251 and parameters: {'n_neighbors': 8, 'weights': 'uniform'}. Best is trial 4 with value: 0.7634966805370392.\u001b[0m\n",
            "\u001b[32m[I 2021-05-31 10:12:31,722]\u001b[0m Trial 14 finished with value: 0.7455392612343285 and parameters: {'n_neighbors': 6, 'weights': 'uniform'}. Best is trial 4 with value: 0.7634966805370392.\u001b[0m\n",
            "\u001b[32m[I 2021-05-31 10:12:31,779]\u001b[0m Trial 15 finished with value: 0.7185660997320191 and parameters: {'n_neighbors': 10, 'weights': 'uniform'}. Best is trial 4 with value: 0.7634966805370392.\u001b[0m\n",
            "\u001b[32m[I 2021-05-31 10:12:31,836]\u001b[0m Trial 16 finished with value: 0.7634966805370392 and parameters: {'n_neighbors': 3, 'weights': 'uniform'}. Best is trial 4 with value: 0.7634966805370392.\u001b[0m\n",
            "\u001b[32m[I 2021-05-31 10:12:31,898]\u001b[0m Trial 17 finished with value: 0.7126139592507306 and parameters: {'n_neighbors': 18, 'weights': 'uniform'}. Best is trial 4 with value: 0.7634966805370392.\u001b[0m\n",
            "\u001b[32m[I 2021-05-31 10:12:31,958]\u001b[0m Trial 18 finished with value: 0.7410414899204136 and parameters: {'n_neighbors': 7, 'weights': 'uniform'}. Best is trial 4 with value: 0.7634966805370392.\u001b[0m\n",
            "\u001b[32m[I 2021-05-31 10:12:32,016]\u001b[0m Trial 19 finished with value: 0.7245586393568457 and parameters: {'n_neighbors': 11, 'weights': 'uniform'}. Best is trial 4 with value: 0.7634966805370392.\u001b[0m\n",
            "\u001b[32m[I 2021-05-31 10:12:32,076]\u001b[0m Trial 20 finished with value: 0.7604734779622673 and parameters: {'n_neighbors': 5, 'weights': 'uniform'}. Best is trial 4 with value: 0.7634966805370392.\u001b[0m\n",
            "\u001b[32m[I 2021-05-31 10:12:32,140]\u001b[0m Trial 21 finished with value: 0.7634966805370392 and parameters: {'n_neighbors': 3, 'weights': 'uniform'}. Best is trial 4 with value: 0.7634966805370392.\u001b[0m\n",
            "\u001b[32m[I 2021-05-31 10:12:32,198]\u001b[0m Trial 22 finished with value: 0.7634966805370392 and parameters: {'n_neighbors': 3, 'weights': 'uniform'}. Best is trial 4 with value: 0.7634966805370392.\u001b[0m\n",
            "\u001b[32m[I 2021-05-31 10:12:32,257]\u001b[0m Trial 23 finished with value: 0.7245721057380251 and parameters: {'n_neighbors': 8, 'weights': 'uniform'}. Best is trial 4 with value: 0.7634966805370392.\u001b[0m\n",
            "\u001b[32m[I 2021-05-31 10:12:32,314]\u001b[0m Trial 24 finished with value: 0.7634966805370392 and parameters: {'n_neighbors': 3, 'weights': 'uniform'}. Best is trial 4 with value: 0.7634966805370392.\u001b[0m\n",
            "\u001b[32m[I 2021-05-31 10:12:32,370]\u001b[0m Trial 25 finished with value: 0.7455392612343285 and parameters: {'n_neighbors': 6, 'weights': 'uniform'}. Best is trial 4 with value: 0.7634966805370392.\u001b[0m\n",
            "\u001b[32m[I 2021-05-31 10:12:32,429]\u001b[0m Trial 26 finished with value: 0.7215758359256116 and parameters: {'n_neighbors': 12, 'weights': 'uniform'}. Best is trial 4 with value: 0.7634966805370392.\u001b[0m\n",
            "\u001b[32m[I 2021-05-31 10:12:32,488]\u001b[0m Trial 27 finished with value: 0.7006288800010774 and parameters: {'n_neighbors': 22, 'weights': 'uniform'}. Best is trial 4 with value: 0.7634966805370392.\u001b[0m\n",
            "\u001b[32m[I 2021-05-31 10:12:32,543]\u001b[0m Trial 28 finished with value: 0.7604734779622673 and parameters: {'n_neighbors': 5, 'weights': 'uniform'}. Best is trial 4 with value: 0.7634966805370392.\u001b[0m\n",
            "\u001b[32m[I 2021-05-31 10:12:32,603]\u001b[0m Trial 29 finished with value: 0.7245721057380251 and parameters: {'n_neighbors': 8, 'weights': 'uniform'}. Best is trial 4 with value: 0.7634966805370392.\u001b[0m\n",
            "\u001b[32m[I 2021-05-31 10:12:32,605]\u001b[0m A new study created in memory with name: no-name-61bce62d-0f5d-420b-9b96-c2d7d619a14b\u001b[0m\n",
            "\u001b[32m[I 2021-05-31 10:12:32,748]\u001b[0m Trial 0 finished with value: 0.7919511439690812 and parameters: {'learning_rate': 2.4464884771390726e-05, 'max_depth': 23, 'min_child_weight': 3}. Best is trial 0 with value: 0.7919511439690812.\u001b[0m\n",
            "\u001b[32m[I 2021-05-31 10:12:32,878]\u001b[0m Trial 1 finished with value: 0.8039092904563757 and parameters: {'learning_rate': 0.0020269974046651326, 'max_depth': 13, 'min_child_weight': 5}. Best is trial 1 with value: 0.8039092904563757.\u001b[0m\n",
            "\u001b[32m[I 2021-05-31 10:12:33,016]\u001b[0m Trial 2 finished with value: 0.808393595389111 and parameters: {'learning_rate': 0.00464002700186133, 'max_depth': 23, 'min_child_weight': 5}. Best is trial 2 with value: 0.808393595389111.\u001b[0m\n",
            "\u001b[32m[I 2021-05-31 10:12:33,170]\u001b[0m Trial 3 finished with value: 0.8188839063278525 and parameters: {'learning_rate': 0.16361993635245614, 'max_depth': 14, 'min_child_weight': 5}. Best is trial 3 with value: 0.8188839063278525.\u001b[0m\n",
            "\u001b[32m[I 2021-05-31 10:12:33,323]\u001b[0m Trial 4 finished with value: 0.7919511439690812 and parameters: {'learning_rate': 1.3143440928594176e-05, 'max_depth': 11, 'min_child_weight': 3}. Best is trial 3 with value: 0.8188839063278525.\u001b[0m\n",
            "\u001b[32m[I 2021-05-31 10:12:33,474]\u001b[0m Trial 5 finished with value: 0.793445912279993 and parameters: {'learning_rate': 4.5769997175584095e-08, 'max_depth': 23, 'min_child_weight': 3}. Best is trial 3 with value: 0.8188839063278525.\u001b[0m\n",
            "\u001b[32m[I 2021-05-31 10:12:33,607]\u001b[0m Trial 6 finished with value: 0.7949474137814945 and parameters: {'learning_rate': 1.7304203180336603e-08, 'max_depth': 27, 'min_child_weight': 4}. Best is trial 3 with value: 0.8188839063278525.\u001b[0m\n",
            "\u001b[32m[I 2021-05-31 10:12:33,822]\u001b[0m Trial 7 finished with value: 0.7859586043442546 and parameters: {'learning_rate': 0.12761189518607868, 'max_depth': 32, 'min_child_weight': 1}. Best is trial 3 with value: 0.8188839063278525.\u001b[0m\n",
            "\u001b[32m[I 2021-05-31 10:12:33,944]\u001b[0m Trial 8 finished with value: 0.800919753834552 and parameters: {'learning_rate': 2.0683736861467188e-07, 'max_depth': 12, 'min_child_weight': 5}. Best is trial 3 with value: 0.8188839063278525.\u001b[0m\n",
            "\u001b[32m[I 2021-05-31 10:12:34,165]\u001b[0m Trial 9 finished with value: 0.7919578771596708 and parameters: {'learning_rate': 0.08587554797546568, 'max_depth': 14, 'min_child_weight': 1}. Best is trial 3 with value: 0.8188839063278525.\u001b[0m\n",
            "\u001b[32m[I 2021-05-31 10:12:34,242]\u001b[0m Trial 10 finished with value: 0.818917572280801 and parameters: {'learning_rate': 0.541217726500195, 'max_depth': 1, 'min_child_weight': 4}. Best is trial 10 with value: 0.818917572280801.\u001b[0m\n",
            "\u001b[32m[I 2021-05-31 10:12:34,390]\u001b[0m Trial 11 finished with value: 0.7919242112067225 and parameters: {'learning_rate': 0.824099841271655, 'max_depth': 6, 'min_child_weight': 4}. Best is trial 10 with value: 0.818917572280801.\u001b[0m\n",
            "\u001b[32m[I 2021-05-31 10:12:34,474]\u001b[0m Trial 12 finished with value: 0.8234153435947159 and parameters: {'learning_rate': 0.9778756464183394, 'max_depth': 1, 'min_child_weight': 4}. Best is trial 12 with value: 0.8234153435947159.\u001b[0m\n",
            "\u001b[32m[I 2021-05-31 10:12:34,564]\u001b[0m Trial 13 finished with value: 0.7889481409660782 and parameters: {'learning_rate': 0.005199323911586877, 'max_depth': 1, 'min_child_weight': 4}. Best is trial 12 with value: 0.8234153435947159.\u001b[0m\n",
            "\u001b[32m[I 2021-05-31 10:12:34,645]\u001b[0m Trial 14 finished with value: 0.8203988742105334 and parameters: {'learning_rate': 0.9580383213116355, 'max_depth': 1, 'min_child_weight': 2}. Best is trial 12 with value: 0.8234153435947159.\u001b[0m\n",
            "\u001b[32m[I 2021-05-31 10:12:34,803]\u001b[0m Trial 15 finished with value: 0.793445912279993 and parameters: {'learning_rate': 0.0006255280707432452, 'max_depth': 7, 'min_child_weight': 2}. Best is trial 12 with value: 0.8234153435947159.\u001b[0m\n",
            "\u001b[32m[I 2021-05-31 10:12:34,926]\u001b[0m Trial 16 finished with value: 0.8218667097590865 and parameters: {'learning_rate': 0.031437453256592196, 'max_depth': 4, 'min_child_weight': 2}. Best is trial 12 with value: 0.8234153435947159.\u001b[0m\n",
            "\u001b[32m[I 2021-05-31 10:12:35,086]\u001b[0m Trial 17 finished with value: 0.8248629795714998 and parameters: {'learning_rate': 0.027065820968568043, 'max_depth': 6, 'min_child_weight': 2}. Best is trial 17 with value: 0.8248629795714998.\u001b[0m\n",
            "\u001b[32m[I 2021-05-31 10:12:35,263]\u001b[0m Trial 18 finished with value: 0.7904563756581693 and parameters: {'learning_rate': 0.0001964561962625473, 'max_depth': 8, 'min_child_weight': 2}. Best is trial 17 with value: 0.8248629795714998.\u001b[0m\n",
            "\u001b[32m[I 2021-05-31 10:12:35,500]\u001b[0m Trial 19 finished with value: 0.8113831320109347 and parameters: {'learning_rate': 0.02114906021270923, 'max_depth': 19, 'min_child_weight': 1}. Best is trial 17 with value: 0.8248629795714998.\u001b[0m\n",
            "\u001b[32m[I 2021-05-31 10:12:35,645]\u001b[0m Trial 20 finished with value: 0.8069122934593786 and parameters: {'learning_rate': 1.2604560807576212e-06, 'max_depth': 4, 'min_child_weight': 3}. Best is trial 17 with value: 0.8248629795714998.\u001b[0m\n",
            "\u001b[32m[I 2021-05-31 10:12:35,769]\u001b[0m Trial 21 finished with value: 0.8158741701342599 and parameters: {'learning_rate': 0.014219792086529202, 'max_depth': 4, 'min_child_weight': 2}. Best is trial 17 with value: 0.8248629795714998.\u001b[0m\n",
            "\u001b[32m[I 2021-05-31 10:12:35,899]\u001b[0m Trial 22 finished with value: 0.823368211260588 and parameters: {'learning_rate': 0.04697603907145644, 'max_depth': 4, 'min_child_weight': 2}. Best is trial 17 with value: 0.8248629795714998.\u001b[0m\n",
            "\u001b[32m[I 2021-05-31 10:12:36,072]\u001b[0m Trial 23 finished with value: 0.7874264398928076 and parameters: {'learning_rate': 0.275402998648355, 'max_depth': 9, 'min_child_weight': 2}. Best is trial 17 with value: 0.8248629795714998.\u001b[0m\n",
            "\u001b[32m[I 2021-05-31 10:12:36,157]\u001b[0m Trial 24 finished with value: 0.7889481409660782 and parameters: {'learning_rate': 0.0008200712574210916, 'max_depth': 1, 'min_child_weight': 1}. Best is trial 17 with value: 0.8248629795714998.\u001b[0m\n",
            "\u001b[32m[I 2021-05-31 10:12:36,331]\u001b[0m Trial 25 finished with value: 0.8293472845042352 and parameters: {'learning_rate': 0.03816428196814251, 'max_depth': 6, 'min_child_weight': 3}. Best is trial 25 with value: 0.8293472845042352.\u001b[0m\n",
            "\u001b[32m[I 2021-05-31 10:12:36,474]\u001b[0m Trial 26 finished with value: 0.7949204810191356 and parameters: {'learning_rate': 0.9712854050381975, 'max_depth': 10, 'min_child_weight': 4}. Best is trial 25 with value: 0.8293472845042352.\u001b[0m\n",
            "\u001b[32m[I 2021-05-31 10:12:36,663]\u001b[0m Trial 27 finished with value: 0.7979436835939078 and parameters: {'learning_rate': 0.008523076598803301, 'max_depth': 17, 'min_child_weight': 3}. Best is trial 25 with value: 0.8293472845042352.\u001b[0m\n",
            "\u001b[32m[I 2021-05-31 10:12:36,803]\u001b[0m Trial 28 finished with value: 0.7949474137814945 and parameters: {'learning_rate': 0.00018324116729428384, 'max_depth': 6, 'min_child_weight': 4}. Best is trial 25 with value: 0.8293472845042352.\u001b[0m\n",
            "\u001b[32m[I 2021-05-31 10:12:36,911]\u001b[0m Trial 29 finished with value: 0.8054175251484669 and parameters: {'learning_rate': 3.76357055282058e-05, 'max_depth': 3, 'min_child_weight': 3}. Best is trial 25 with value: 0.8293472845042352.\u001b[0m\n",
            "\u001b[32m[I 2021-05-31 10:12:36,912]\u001b[0m A new study created in memory with name: no-name-4819ce05-d1eb-4c42-9b15-df5074d02230\u001b[0m\n",
            "\u001b[32m[I 2021-05-31 10:12:37,198]\u001b[0m Trial 0 finished with value: 0.6137707213940398 and parameters: {'layers': 6, 'layer 1 units: ': 4, 'layer 2 units: ': 3, 'layer 3 units: ': 2, 'layer 4 units: ': 3, 'layer 5 units: ': 1, 'layer 6 units: ': 2, 'activation': 'relu'}. Best is trial 0 with value: 0.6137707213940398.\u001b[0m\n",
            "\u001b[32m[I 2021-05-31 10:12:37,944]\u001b[0m Trial 1 finished with value: 0.7560093726013007 and parameters: {'layers': 1, 'layer 1 units: ': 7, 'activation': 'tanh'}. Best is trial 1 with value: 0.7560093726013007.\u001b[0m\n",
            "\u001b[32m[I 2021-05-31 10:12:38,720]\u001b[0m Trial 2 finished with value: 0.6137707213940398 and parameters: {'layers': 6, 'layer 1 units: ': 1, 'layer 2 units: ': 7, 'layer 3 units: ': 4, 'layer 4 units: ': 2, 'layer 5 units: ': 7, 'layer 6 units: ': 6, 'activation': 'logistic'}. Best is trial 1 with value: 0.7560093726013007.\u001b[0m\n",
            "\u001b[32m[I 2021-05-31 10:12:39,421]\u001b[0m Trial 3 finished with value: 0.7544405391939023 and parameters: {'layers': 1, 'layer 1 units: ': 3, 'activation': 'tanh'}. Best is trial 1 with value: 0.7560093726013007.\u001b[0m\n",
            "\u001b[32m[I 2021-05-31 10:12:39,818]\u001b[0m Trial 4 finished with value: 0.6137707213940398 and parameters: {'layers': 2, 'layer 1 units: ': 1, 'layer 2 units: ': 5, 'activation': 'logistic'}. Best is trial 1 with value: 0.7560093726013007.\u001b[0m\n",
            "\u001b[32m[I 2021-05-31 10:12:40,416]\u001b[0m Trial 5 finished with value: 0.6137707213940398 and parameters: {'layers': 6, 'layer 1 units: ': 5, 'layer 2 units: ': 1, 'layer 3 units: ': 1, 'layer 4 units: ': 7, 'layer 5 units: ': 5, 'layer 6 units: ': 4, 'activation': 'logistic'}. Best is trial 1 with value: 0.7560093726013007.\u001b[0m\n",
            "\u001b[32m[I 2021-05-31 10:12:42,020]\u001b[0m Trial 6 finished with value: 0.7470744286887784 and parameters: {'layers': 5, 'layer 1 units: ': 6, 'layer 2 units: ': 4, 'layer 3 units: ': 2, 'layer 4 units: ': 6, 'layer 5 units: ': 5, 'activation': 'tanh'}. Best is trial 1 with value: 0.7560093726013007.\u001b[0m\n",
            "\u001b[32m[I 2021-05-31 10:12:42,407]\u001b[0m Trial 7 finished with value: 0.6137707213940398 and parameters: {'layers': 3, 'layer 1 units: ': 7, 'layer 2 units: ': 6, 'layer 3 units: ': 7, 'activation': 'logistic'}. Best is trial 1 with value: 0.7560093726013007.\u001b[0m\n",
            "\u001b[32m[I 2021-05-31 10:12:44,103]\u001b[0m Trial 8 finished with value: 0.5868648917976272 and parameters: {'layers': 7, 'layer 1 units: ': 7, 'layer 2 units: ': 5, 'layer 3 units: ': 4, 'layer 4 units: ': 5, 'layer 5 units: ': 1, 'layer 6 units: ': 4, 'layer 7 units: ': 1, 'activation': 'relu'}. Best is trial 1 with value: 0.7560093726013007.\u001b[0m\n",
            "\u001b[32m[I 2021-05-31 10:12:45,208]\u001b[0m Trial 9 finished with value: 0.7289150136683769 and parameters: {'layers': 4, 'layer 1 units: ': 3, 'layer 2 units: ': 5, 'layer 3 units: ': 3, 'layer 4 units: ': 2, 'activation': 'identity'}. Best is trial 1 with value: 0.7560093726013007.\u001b[0m\n",
            "\u001b[32m[I 2021-05-31 10:12:45,975]\u001b[0m Trial 10 finished with value: 0.7814002343150325 and parameters: {'layers': 1, 'layer 1 units: ': 6, 'activation': 'tanh'}. Best is trial 10 with value: 0.7814002343150325.\u001b[0m\n",
            "\u001b[32m[I 2021-05-31 10:12:46,699]\u001b[0m Trial 11 finished with value: 0.6616437064867559 and parameters: {'layers': 1, 'layer 1 units: ': 6, 'activation': 'tanh'}. Best is trial 10 with value: 0.7814002343150325.\u001b[0m\n",
            "\u001b[32m[I 2021-05-31 10:12:47,388]\u001b[0m Trial 12 finished with value: 0.7306521768405178 and parameters: {'layers': 2, 'layer 1 units: ': 7, 'layer 2 units: ': 2, 'activation': 'tanh'}. Best is trial 10 with value: 0.7814002343150325.\u001b[0m\n",
            "\u001b[32m[I 2021-05-31 10:12:48,145]\u001b[0m Trial 13 finished with value: 0.7335541819846753 and parameters: {'layers': 1, 'layer 1 units: ': 6, 'activation': 'tanh'}. Best is trial 10 with value: 0.7814002343150325.\u001b[0m\n",
            "\u001b[32m[I 2021-05-31 10:12:48,780]\u001b[0m Trial 14 finished with value: 0.6542102640757349 and parameters: {'layers': 2, 'layer 1 units: ': 5, 'layer 2 units: ': 1, 'activation': 'tanh'}. Best is trial 10 with value: 0.7814002343150325.\u001b[0m\n",
            "\u001b[32m[I 2021-05-31 10:12:49,803]\u001b[0m Trial 15 finished with value: 0.7605610094399332 and parameters: {'layers': 3, 'layer 1 units: ': 5, 'layer 2 units: ': 7, 'layer 3 units: ': 7, 'activation': 'identity'}. Best is trial 10 with value: 0.7814002343150325.\u001b[0m\n",
            "\u001b[32m[I 2021-05-31 10:12:50,807]\u001b[0m Trial 16 finished with value: 0.802434721717233 and parameters: {'layers': 3, 'layer 1 units: ': 5, 'layer 2 units: ': 7, 'layer 3 units: ': 7, 'activation': 'identity'}. Best is trial 16 with value: 0.802434721717233.\u001b[0m\n",
            "\u001b[32m[I 2021-05-31 10:12:51,964]\u001b[0m Trial 17 finished with value: 0.7096378890100863 and parameters: {'layers': 4, 'layer 1 units: ': 4, 'layer 2 units: ': 7, 'layer 3 units: ': 6, 'layer 4 units: ': 1, 'activation': 'identity'}. Best is trial 16 with value: 0.802434721717233.\u001b[0m\n",
            "\u001b[32m[I 2021-05-31 10:12:52,987]\u001b[0m Trial 18 finished with value: 0.6722552148561117 and parameters: {'layers': 3, 'layer 1 units: ': 3, 'layer 2 units: ': 6, 'layer 3 units: ': 5, 'activation': 'identity'}. Best is trial 16 with value: 0.802434721717233.\u001b[0m\n",
            "\u001b[32m[I 2021-05-31 10:12:53,804]\u001b[0m Trial 19 finished with value: 0.7754682934055132 and parameters: {'layers': 2, 'layer 1 units: ': 5, 'layer 2 units: ': 3, 'activation': 'identity'}. Best is trial 16 with value: 0.802434721717233.\u001b[0m\n",
            "\u001b[32m[I 2021-05-31 10:12:55,078]\u001b[0m Trial 20 finished with value: 0.724417242354462 and parameters: {'layers': 3, 'layer 1 units: ': 6, 'layer 2 units: ': 6, 'layer 3 units: ': 6, 'activation': 'relu'}. Best is trial 16 with value: 0.802434721717233.\u001b[0m\n",
            "\u001b[32m[I 2021-05-31 10:12:55,890]\u001b[0m Trial 21 finished with value: 0.7229830727588574 and parameters: {'layers': 2, 'layer 1 units: ': 5, 'layer 2 units: ': 3, 'activation': 'identity'}. Best is trial 16 with value: 0.802434721717233.\u001b[0m\n",
            "\u001b[32m[I 2021-05-31 10:12:56,736]\u001b[0m Trial 22 finished with value: 0.703571284288773 and parameters: {'layers': 2, 'layer 1 units: ': 4, 'layer 2 units: ': 3, 'activation': 'identity'}. Best is trial 16 with value: 0.802434721717233.\u001b[0m\n",
            "\u001b[32m[I 2021-05-31 10:12:57,717]\u001b[0m Trial 23 finished with value: 0.7545146042903891 and parameters: {'layers': 3, 'layer 1 units: ': 5, 'layer 2 units: ': 2, 'layer 3 units: ': 6, 'activation': 'identity'}. Best is trial 16 with value: 0.802434721717233.\u001b[0m\n",
            "\u001b[32m[I 2021-05-31 10:12:58,375]\u001b[0m Trial 24 finished with value: 0.7095907566759584 and parameters: {'layers': 1, 'layer 1 units: ': 6, 'activation': 'identity'}. Best is trial 16 with value: 0.802434721717233.\u001b[0m\n",
            "\u001b[32m[I 2021-05-31 10:12:59,555]\u001b[0m Trial 25 finished with value: 0.7335811147470341 and parameters: {'layers': 4, 'layer 1 units: ': 5, 'layer 2 units: ': 4, 'layer 3 units: ': 7, 'layer 4 units: ': 4, 'activation': 'identity'}. Best is trial 16 with value: 0.802434721717233.\u001b[0m\n",
            "\u001b[32m[I 2021-05-31 10:13:00,362]\u001b[0m Trial 26 finished with value: 0.6961311086871625 and parameters: {'layers': 2, 'layer 1 units: ': 4, 'layer 2 units: ': 2, 'activation': 'identity'}. Best is trial 16 with value: 0.802434721717233.\u001b[0m\n",
            "\u001b[32m[I 2021-05-31 10:13:01,365]\u001b[0m Trial 27 finished with value: 0.7021101819308097 and parameters: {'layers': 3, 'layer 1 units: ': 6, 'layer 2 units: ': 4, 'layer 3 units: ': 5, 'activation': 'identity'}. Best is trial 16 with value: 0.802434721717233.\u001b[0m\n",
            "\u001b[32m[I 2021-05-31 10:13:02,258]\u001b[0m Trial 28 finished with value: 0.6302805047199667 and parameters: {'layers': 5, 'layer 1 units: ': 2, 'layer 2 units: ': 3, 'layer 3 units: ': 5, 'layer 4 units: ': 7, 'layer 5 units: ': 3, 'activation': 'tanh'}. Best is trial 16 with value: 0.802434721717233.\u001b[0m\n",
            "\u001b[32m[I 2021-05-31 10:13:03,287]\u001b[0m Trial 29 finished with value: 0.6616975720114734 and parameters: {'layers': 2, 'layer 1 units: ': 5, 'layer 2 units: ': 2, 'activation': 'relu'}. Best is trial 16 with value: 0.802434721717233.\u001b[0m\n"
          ],
          "name": "stderr"
        }
      ]
    },
    {
      "cell_type": "code",
      "metadata": {
        "id": "27mo4u1ZN4qE",
        "colab": {
          "base_uri": "https://localhost:8080/"
        },
        "outputId": "09b28a92-ac45-4c46-dc07-97279157965b"
      },
      "source": [
        "models = [SVC,LogisticRegression,RandomForestClassifier,GradientBoostingClassifier,KNeighborsClassifier,XGBClassifier]\n",
        "print(main_parameters)"
      ],
      "execution_count": null,
      "outputs": [
        {
          "output_type": "stream",
          "text": [
            "[(0.8248831791432689, {'kernel': 'rbf', 'C': 12.000150097151142, 'degree': 1}), (0.8084003285797007, {'C': 0.056210518961330586}), (0.829374217266594, {'n_estimators': 108, 'max_depth': 5.37976883025098}), (0.830842052815147, {'n_estimators': 20, 'learning_rate': 0.2}), (0.7634966805370392, {'n_neighbors': 3, 'weights': 'uniform'}), (0.8293472845042352, {'learning_rate': 0.03816428196814251, 'max_depth': 6, 'min_child_weight': 3}), (0.802434721717233, {'layers': 3, 'layer 1 units: ': 5, 'layer 2 units: ': 7, 'layer 3 units: ': 7, 'activation': 'identity'})]\n"
          ],
          "name": "stdout"
        }
      ]
    },
    {
      "cell_type": "code",
      "metadata": {
        "colab": {
          "base_uri": "https://localhost:8080/"
        },
        "id": "_71_BZizXp2_",
        "outputId": "80344e47-1027-4df3-d0bc-8a7eb82ed324"
      },
      "source": [
        "stack = []\n",
        "strmodels = ['SVC','LogisticRegression','RandomForestClassifier','GradientBoostingClassifier','KNeighborsClassifier','XGBClassifier'] \n",
        "k = 0\n",
        "for i in models:\n",
        "  mod = i(**main_parameters[k][1])\n",
        "  stack.append((strmodels[k],mod))\n",
        "  print(stack[k])\n",
        "  k+=1\n",
        "\n",
        "\n",
        "layer = [x for x in main_parameters[-1][1].values()]\n",
        "MLP = MLPClassifier(hidden_layer_sizes = tuple(layer[1:-1]), activation = str(layer[-1]))\n",
        "NB = GaussianNB()\n",
        "stack.append(('MLPClassifier',MLP))\n",
        "stack.append(('GaussianNB',NB))\n",
        "stack"
      ],
      "execution_count": null,
      "outputs": [
        {
          "output_type": "stream",
          "text": [
            "('SVC', SVC(C=12.000150097151142, break_ties=False, cache_size=200, class_weight=None,\n",
            "    coef0=0.0, decision_function_shape='ovr', degree=1, gamma='scale',\n",
            "    kernel='rbf', max_iter=-1, probability=False, random_state=None,\n",
            "    shrinking=True, tol=0.001, verbose=False))\n",
            "('LogisticRegression', LogisticRegression(C=0.056210518961330586, class_weight=None, dual=False,\n",
            "                   fit_intercept=True, intercept_scaling=1, l1_ratio=None,\n",
            "                   max_iter=100, multi_class='auto', n_jobs=None, penalty='l2',\n",
            "                   random_state=None, solver='lbfgs', tol=0.0001, verbose=0,\n",
            "                   warm_start=False))\n",
            "('RandomForestClassifier', RandomForestClassifier(bootstrap=True, ccp_alpha=0.0, class_weight=None,\n",
            "                       criterion='gini', max_depth=5.37976883025098,\n",
            "                       max_features='auto', max_leaf_nodes=None,\n",
            "                       max_samples=None, min_impurity_decrease=0.0,\n",
            "                       min_impurity_split=None, min_samples_leaf=1,\n",
            "                       min_samples_split=2, min_weight_fraction_leaf=0.0,\n",
            "                       n_estimators=108, n_jobs=None, oob_score=False,\n",
            "                       random_state=None, verbose=0, warm_start=False))\n",
            "('GradientBoostingClassifier', GradientBoostingClassifier(ccp_alpha=0.0, criterion='friedman_mse', init=None,\n",
            "                           learning_rate=0.2, loss='deviance', max_depth=3,\n",
            "                           max_features=None, max_leaf_nodes=None,\n",
            "                           min_impurity_decrease=0.0, min_impurity_split=None,\n",
            "                           min_samples_leaf=1, min_samples_split=2,\n",
            "                           min_weight_fraction_leaf=0.0, n_estimators=20,\n",
            "                           n_iter_no_change=None, presort='deprecated',\n",
            "                           random_state=None, subsample=1.0, tol=0.0001,\n",
            "                           validation_fraction=0.1, verbose=0,\n",
            "                           warm_start=False))\n",
            "('KNeighborsClassifier', KNeighborsClassifier(algorithm='auto', leaf_size=30, metric='minkowski',\n",
            "                     metric_params=None, n_jobs=None, n_neighbors=3, p=2,\n",
            "                     weights='uniform'))\n",
            "('XGBClassifier', XGBClassifier(base_score=0.5, booster='gbtree', colsample_bylevel=1,\n",
            "              colsample_bynode=1, colsample_bytree=1, gamma=0,\n",
            "              learning_rate=0.03816428196814251, max_delta_step=0, max_depth=6,\n",
            "              min_child_weight=3, missing=None, n_estimators=100, n_jobs=1,\n",
            "              nthread=None, objective='binary:logistic', random_state=0,\n",
            "              reg_alpha=0, reg_lambda=1, scale_pos_weight=1, seed=None,\n",
            "              silent=None, subsample=1, verbosity=1))\n"
          ],
          "name": "stdout"
        },
        {
          "output_type": "execute_result",
          "data": {
            "text/plain": [
              "[('SVC',\n",
              "  SVC(C=12.000150097151142, break_ties=False, cache_size=200, class_weight=None,\n",
              "      coef0=0.0, decision_function_shape='ovr', degree=1, gamma='scale',\n",
              "      kernel='rbf', max_iter=-1, probability=False, random_state=None,\n",
              "      shrinking=True, tol=0.001, verbose=False)),\n",
              " ('LogisticRegression',\n",
              "  LogisticRegression(C=0.056210518961330586, class_weight=None, dual=False,\n",
              "                     fit_intercept=True, intercept_scaling=1, l1_ratio=None,\n",
              "                     max_iter=100, multi_class='auto', n_jobs=None, penalty='l2',\n",
              "                     random_state=None, solver='lbfgs', tol=0.0001, verbose=0,\n",
              "                     warm_start=False)),\n",
              " ('RandomForestClassifier',\n",
              "  RandomForestClassifier(bootstrap=True, ccp_alpha=0.0, class_weight=None,\n",
              "                         criterion='gini', max_depth=5.37976883025098,\n",
              "                         max_features='auto', max_leaf_nodes=None,\n",
              "                         max_samples=None, min_impurity_decrease=0.0,\n",
              "                         min_impurity_split=None, min_samples_leaf=1,\n",
              "                         min_samples_split=2, min_weight_fraction_leaf=0.0,\n",
              "                         n_estimators=108, n_jobs=None, oob_score=False,\n",
              "                         random_state=None, verbose=0, warm_start=False)),\n",
              " ('GradientBoostingClassifier',\n",
              "  GradientBoostingClassifier(ccp_alpha=0.0, criterion='friedman_mse', init=None,\n",
              "                             learning_rate=0.2, loss='deviance', max_depth=3,\n",
              "                             max_features=None, max_leaf_nodes=None,\n",
              "                             min_impurity_decrease=0.0, min_impurity_split=None,\n",
              "                             min_samples_leaf=1, min_samples_split=2,\n",
              "                             min_weight_fraction_leaf=0.0, n_estimators=20,\n",
              "                             n_iter_no_change=None, presort='deprecated',\n",
              "                             random_state=None, subsample=1.0, tol=0.0001,\n",
              "                             validation_fraction=0.1, verbose=0,\n",
              "                             warm_start=False)),\n",
              " ('KNeighborsClassifier',\n",
              "  KNeighborsClassifier(algorithm='auto', leaf_size=30, metric='minkowski',\n",
              "                       metric_params=None, n_jobs=None, n_neighbors=3, p=2,\n",
              "                       weights='uniform')),\n",
              " ('XGBClassifier',\n",
              "  XGBClassifier(base_score=0.5, booster='gbtree', colsample_bylevel=1,\n",
              "                colsample_bynode=1, colsample_bytree=1, gamma=0,\n",
              "                learning_rate=0.03816428196814251, max_delta_step=0, max_depth=6,\n",
              "                min_child_weight=3, missing=None, n_estimators=100, n_jobs=1,\n",
              "                nthread=None, objective='binary:logistic', random_state=0,\n",
              "                reg_alpha=0, reg_lambda=1, scale_pos_weight=1, seed=None,\n",
              "                silent=None, subsample=1, verbosity=1)),\n",
              " ('MLPClassifier',\n",
              "  MLPClassifier(activation='identity', alpha=0.0001, batch_size='auto',\n",
              "                beta_1=0.9, beta_2=0.999, early_stopping=False, epsilon=1e-08,\n",
              "                hidden_layer_sizes=(5, 7, 7), learning_rate='constant',\n",
              "                learning_rate_init=0.001, max_fun=15000, max_iter=200,\n",
              "                momentum=0.9, n_iter_no_change=10, nesterovs_momentum=True,\n",
              "                power_t=0.5, random_state=None, shuffle=True, solver='adam',\n",
              "                tol=0.0001, validation_fraction=0.1, verbose=False,\n",
              "                warm_start=False)),\n",
              " ('GaussianNB', GaussianNB(priors=None, var_smoothing=1e-09))]"
            ]
          },
          "metadata": {
            "tags": []
          },
          "execution_count": 232
        }
      ]
    },
    {
      "cell_type": "code",
      "metadata": {
        "colab": {
          "base_uri": "https://localhost:8080/"
        },
        "id": "TxAixXrSZVyE",
        "outputId": "64b48659-c638-41ec-d5d4-6c4ac344f6c3"
      },
      "source": [
        "clf =  StackingClassifier(estimators=stack,final_estimator=LogisticRegression())\n",
        "sklearn.model_selection.cross_val_score(clf,X_train,y_train,n_jobs=-1, cv=3).mean()"
      ],
      "execution_count": null,
      "outputs": [
        {
          "output_type": "execute_result",
          "data": {
            "text/plain": [
              "0.8293809504571836"
            ]
          },
          "metadata": {
            "tags": []
          },
          "execution_count": 233
        }
      ]
    },
    {
      "cell_type": "code",
      "metadata": {
        "colab": {
          "base_uri": "https://localhost:8080/"
        },
        "id": "fnB2MSt-dfcf",
        "outputId": "8bacc774-81b4-4706-fb2d-39123cc6e84a"
      },
      "source": [
        "clf.fit(X_train,y_train)\n",
        "clf.score(X_test,y_test)"
      ],
      "execution_count": null,
      "outputs": [
        {
          "output_type": "stream",
          "text": [
            "/usr/local/lib/python3.7/dist-packages/sklearn/linear_model/_logistic.py:940: ConvergenceWarning:\n",
            "\n",
            "lbfgs failed to converge (status=1):\n",
            "STOP: TOTAL NO. of ITERATIONS REACHED LIMIT.\n",
            "\n",
            "Increase the number of iterations (max_iter) or scale the data as shown in:\n",
            "    https://scikit-learn.org/stable/modules/preprocessing.html\n",
            "Please also refer to the documentation for alternative solver options:\n",
            "    https://scikit-learn.org/stable/modules/linear_model.html#logistic-regression\n",
            "\n",
            "/usr/local/lib/python3.7/dist-packages/sklearn/neural_network/_multilayer_perceptron.py:571: ConvergenceWarning:\n",
            "\n",
            "Stochastic Optimizer: Maximum iterations (200) reached and the optimization hasn't converged yet.\n",
            "\n",
            "/usr/local/lib/python3.7/dist-packages/sklearn/neural_network/_multilayer_perceptron.py:571: ConvergenceWarning:\n",
            "\n",
            "Stochastic Optimizer: Maximum iterations (200) reached and the optimization hasn't converged yet.\n",
            "\n",
            "/usr/local/lib/python3.7/dist-packages/sklearn/neural_network/_multilayer_perceptron.py:571: ConvergenceWarning:\n",
            "\n",
            "Stochastic Optimizer: Maximum iterations (200) reached and the optimization hasn't converged yet.\n",
            "\n",
            "/usr/local/lib/python3.7/dist-packages/sklearn/neural_network/_multilayer_perceptron.py:571: ConvergenceWarning:\n",
            "\n",
            "Stochastic Optimizer: Maximum iterations (200) reached and the optimization hasn't converged yet.\n",
            "\n",
            "/usr/local/lib/python3.7/dist-packages/sklearn/neural_network/_multilayer_perceptron.py:571: ConvergenceWarning:\n",
            "\n",
            "Stochastic Optimizer: Maximum iterations (200) reached and the optimization hasn't converged yet.\n",
            "\n",
            "/usr/local/lib/python3.7/dist-packages/sklearn/neural_network/_multilayer_perceptron.py:571: ConvergenceWarning:\n",
            "\n",
            "Stochastic Optimizer: Maximum iterations (200) reached and the optimization hasn't converged yet.\n",
            "\n"
          ],
          "name": "stderr"
        },
        {
          "output_type": "execute_result",
          "data": {
            "text/plain": [
              "0.8251121076233184"
            ]
          },
          "metadata": {
            "tags": []
          },
          "execution_count": 234
        }
      ]
    },
    {
      "cell_type": "code",
      "metadata": {
        "id": "pGyoqJ-xd_9D",
        "colab": {
          "base_uri": "https://localhost:8080/",
          "height": 419
        },
        "outputId": "e2939f35-0c37-4847-ec6d-865827514806"
      },
      "source": [
        "test = pd.DataFrame(clf.predict(df_ts))\n",
        "test"
      ],
      "execution_count": null,
      "outputs": [
        {
          "output_type": "execute_result",
          "data": {
            "text/html": [
              "<div>\n",
              "<style scoped>\n",
              "    .dataframe tbody tr th:only-of-type {\n",
              "        vertical-align: middle;\n",
              "    }\n",
              "\n",
              "    .dataframe tbody tr th {\n",
              "        vertical-align: top;\n",
              "    }\n",
              "\n",
              "    .dataframe thead th {\n",
              "        text-align: right;\n",
              "    }\n",
              "</style>\n",
              "<table border=\"1\" class=\"dataframe\">\n",
              "  <thead>\n",
              "    <tr style=\"text-align: right;\">\n",
              "      <th></th>\n",
              "      <th>0</th>\n",
              "    </tr>\n",
              "  </thead>\n",
              "  <tbody>\n",
              "    <tr>\n",
              "      <th>0</th>\n",
              "      <td>0</td>\n",
              "    </tr>\n",
              "    <tr>\n",
              "      <th>1</th>\n",
              "      <td>0</td>\n",
              "    </tr>\n",
              "    <tr>\n",
              "      <th>2</th>\n",
              "      <td>0</td>\n",
              "    </tr>\n",
              "    <tr>\n",
              "      <th>3</th>\n",
              "      <td>0</td>\n",
              "    </tr>\n",
              "    <tr>\n",
              "      <th>4</th>\n",
              "      <td>1</td>\n",
              "    </tr>\n",
              "    <tr>\n",
              "      <th>...</th>\n",
              "      <td>...</td>\n",
              "    </tr>\n",
              "    <tr>\n",
              "      <th>413</th>\n",
              "      <td>0</td>\n",
              "    </tr>\n",
              "    <tr>\n",
              "      <th>414</th>\n",
              "      <td>1</td>\n",
              "    </tr>\n",
              "    <tr>\n",
              "      <th>415</th>\n",
              "      <td>0</td>\n",
              "    </tr>\n",
              "    <tr>\n",
              "      <th>416</th>\n",
              "      <td>0</td>\n",
              "    </tr>\n",
              "    <tr>\n",
              "      <th>417</th>\n",
              "      <td>1</td>\n",
              "    </tr>\n",
              "  </tbody>\n",
              "</table>\n",
              "<p>418 rows × 1 columns</p>\n",
              "</div>"
            ],
            "text/plain": [
              "     0\n",
              "0    0\n",
              "1    0\n",
              "2    0\n",
              "3    0\n",
              "4    1\n",
              "..  ..\n",
              "413  0\n",
              "414  1\n",
              "415  0\n",
              "416  0\n",
              "417  1\n",
              "\n",
              "[418 rows x 1 columns]"
            ]
          },
          "metadata": {
            "tags": []
          },
          "execution_count": 235
        }
      ]
    },
    {
      "cell_type": "code",
      "metadata": {
        "colab": {
          "base_uri": "https://localhost:8080/",
          "height": 450
        },
        "id": "DoQefZePq8iB",
        "outputId": "fad1b984-72b9-4276-c852-843331aaf4f4"
      },
      "source": [
        "test.set_index(temp,inplace=True)\n",
        "test.rename({0:'Survived'},inplace=True,axis=1)\n",
        "test"
      ],
      "execution_count": null,
      "outputs": [
        {
          "output_type": "execute_result",
          "data": {
            "text/html": [
              "<div>\n",
              "<style scoped>\n",
              "    .dataframe tbody tr th:only-of-type {\n",
              "        vertical-align: middle;\n",
              "    }\n",
              "\n",
              "    .dataframe tbody tr th {\n",
              "        vertical-align: top;\n",
              "    }\n",
              "\n",
              "    .dataframe thead th {\n",
              "        text-align: right;\n",
              "    }\n",
              "</style>\n",
              "<table border=\"1\" class=\"dataframe\">\n",
              "  <thead>\n",
              "    <tr style=\"text-align: right;\">\n",
              "      <th></th>\n",
              "      <th>Survived</th>\n",
              "    </tr>\n",
              "    <tr>\n",
              "      <th>PassengerId</th>\n",
              "      <th></th>\n",
              "    </tr>\n",
              "  </thead>\n",
              "  <tbody>\n",
              "    <tr>\n",
              "      <th>892</th>\n",
              "      <td>0</td>\n",
              "    </tr>\n",
              "    <tr>\n",
              "      <th>893</th>\n",
              "      <td>0</td>\n",
              "    </tr>\n",
              "    <tr>\n",
              "      <th>894</th>\n",
              "      <td>0</td>\n",
              "    </tr>\n",
              "    <tr>\n",
              "      <th>895</th>\n",
              "      <td>0</td>\n",
              "    </tr>\n",
              "    <tr>\n",
              "      <th>896</th>\n",
              "      <td>1</td>\n",
              "    </tr>\n",
              "    <tr>\n",
              "      <th>...</th>\n",
              "      <td>...</td>\n",
              "    </tr>\n",
              "    <tr>\n",
              "      <th>1305</th>\n",
              "      <td>0</td>\n",
              "    </tr>\n",
              "    <tr>\n",
              "      <th>1306</th>\n",
              "      <td>1</td>\n",
              "    </tr>\n",
              "    <tr>\n",
              "      <th>1307</th>\n",
              "      <td>0</td>\n",
              "    </tr>\n",
              "    <tr>\n",
              "      <th>1308</th>\n",
              "      <td>0</td>\n",
              "    </tr>\n",
              "    <tr>\n",
              "      <th>1309</th>\n",
              "      <td>1</td>\n",
              "    </tr>\n",
              "  </tbody>\n",
              "</table>\n",
              "<p>418 rows × 1 columns</p>\n",
              "</div>"
            ],
            "text/plain": [
              "             Survived\n",
              "PassengerId          \n",
              "892                 0\n",
              "893                 0\n",
              "894                 0\n",
              "895                 0\n",
              "896                 1\n",
              "...               ...\n",
              "1305                0\n",
              "1306                1\n",
              "1307                0\n",
              "1308                0\n",
              "1309                1\n",
              "\n",
              "[418 rows x 1 columns]"
            ]
          },
          "metadata": {
            "tags": []
          },
          "execution_count": 236
        }
      ]
    },
    {
      "cell_type": "code",
      "metadata": {
        "id": "SisRMmEprO0P"
      },
      "source": [
        "test.to_csv(r'/content/drive/MyDrive/titanic/submission.csv')"
      ],
      "execution_count": null,
      "outputs": []
    }
  ]
}